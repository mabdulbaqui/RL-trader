{
 "cells": [
  {
   "cell_type": "code",
   "execution_count": 1,
   "metadata": {
    "collapsed": true
   },
   "outputs": [],
   "source": [
    "import numpy as np\n",
    "import pandas as pd\n",
    "import matplotlib.pyplot as plt\n",
    "import seaborn as sns"
   ]
  },
  {
   "cell_type": "code",
   "execution_count": 3,
   "metadata": {},
   "outputs": [
    {
     "data": {
      "text/plain": "                  Gmt time     open     high      low    close       volume\n0  04.05.2003 21:00:00.000  1.12354  1.12354  1.12166  1.12274   95533.0976\n1  05.05.2003 01:00:00.000  1.12242  1.12276  1.12067  1.12126   93778.5996\n2  05.05.2003 05:00:00.000  1.12139  1.12255  1.12030  1.12113   90924.6992\n3  05.05.2003 09:00:00.000  1.12092  1.12331  1.12049  1.12174   91254.6992\n4  05.05.2003 13:00:00.000  1.12194  1.12900  1.12130  1.12712  308003.4083",
      "text/html": "<div>\n<style scoped>\n    .dataframe tbody tr th:only-of-type {\n        vertical-align: middle;\n    }\n\n    .dataframe tbody tr th {\n        vertical-align: top;\n    }\n\n    .dataframe thead th {\n        text-align: right;\n    }\n</style>\n<table border=\"1\" class=\"dataframe\">\n  <thead>\n    <tr style=\"text-align: right;\">\n      <th></th>\n      <th>Gmt time</th>\n      <th>open</th>\n      <th>high</th>\n      <th>low</th>\n      <th>close</th>\n      <th>volume</th>\n    </tr>\n  </thead>\n  <tbody>\n    <tr>\n      <th>0</th>\n      <td>04.05.2003 21:00:00.000</td>\n      <td>1.12354</td>\n      <td>1.12354</td>\n      <td>1.12166</td>\n      <td>1.12274</td>\n      <td>95533.0976</td>\n    </tr>\n    <tr>\n      <th>1</th>\n      <td>05.05.2003 01:00:00.000</td>\n      <td>1.12242</td>\n      <td>1.12276</td>\n      <td>1.12067</td>\n      <td>1.12126</td>\n      <td>93778.5996</td>\n    </tr>\n    <tr>\n      <th>2</th>\n      <td>05.05.2003 05:00:00.000</td>\n      <td>1.12139</td>\n      <td>1.12255</td>\n      <td>1.12030</td>\n      <td>1.12113</td>\n      <td>90924.6992</td>\n    </tr>\n    <tr>\n      <th>3</th>\n      <td>05.05.2003 09:00:00.000</td>\n      <td>1.12092</td>\n      <td>1.12331</td>\n      <td>1.12049</td>\n      <td>1.12174</td>\n      <td>91254.6992</td>\n    </tr>\n    <tr>\n      <th>4</th>\n      <td>05.05.2003 13:00:00.000</td>\n      <td>1.12194</td>\n      <td>1.12900</td>\n      <td>1.12130</td>\n      <td>1.12712</td>\n      <td>308003.4083</td>\n    </tr>\n  </tbody>\n</table>\n</div>"
     },
     "execution_count": 3,
     "metadata": {},
     "output_type": "execute_result"
    }
   ],
   "source": [
    "df = pd.read_csv(\"../data/EURUSD_ForexTrading_4hrs_05.05.2003_to_16.10.2021.csv\")\n",
    "df.head()"
   ]
  },
  {
   "attachments": {
    "1.png": {
     "image/png": "[encoded data removed]"
    }
   },
   "cell_type": "markdown",
   "metadata": {},
   "source": [
    "![1.png](attachment:1.png)\n",
    "These are commonly known as the \"OHLCV\" data points, which are used in financial markets to describe the price and trading activity of a security (such as a stock, bond, or cryptocurrency) over a certain period of time.\n",
    "\n",
    "1. \"Open\" refers to the price of the security at the beginning of the time period being analyzed.\n",
    "2. \"High\" refers to the highest price the security reached during the same time period.\n",
    "3. \"Low\" refers to the lowest price the security reached during the same time period.\n",
    "4. \"Close\" refers to the price of the security at the end of the time period being analyzed.\n",
    "5. \"Volume\" refers to the total number of shares or contracts traded during the time period being analyzed.\n"
   ]
  },
  {
   "cell_type": "code",
   "execution_count": 4,
   "metadata": {},
   "outputs": [
    {
     "data": {
      "text/plain": "Index(['Gmt time', 'open', 'high', 'low', 'close', 'volume'], dtype='object')"
     },
     "execution_count": 4,
     "metadata": {},
     "output_type": "execute_result"
    }
   ],
   "source": [
    "df.columns"
   ]
  },
  {
   "cell_type": "code",
   "execution_count": null,
   "outputs": [],
   "source": [],
   "metadata": {
    "collapsed": false
   }
  }
 ],
 "metadata": {
  "kernelspec": {
   "display_name": "Python 3 (ipykernel)",
   "language": "python",
   "name": "python3"
  },
  "language_info": {
   "codemirror_mode": {
    "name": "ipython",
    "version": 3
   },
   "file_extension": ".py",
   "mimetype": "text/x-python",
   "name": "python",
   "nbconvert_exporter": "python",
   "pygments_lexer": "ipython3",
   "version": "3.10.9"
  }
 },
 "nbformat": 4,
 "nbformat_minor": 1
}
