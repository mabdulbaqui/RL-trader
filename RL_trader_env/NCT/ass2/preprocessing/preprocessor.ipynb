{
 "cells": [
  {
   "cell_type": "code",
   "execution_count": 1,
   "metadata": {
    "collapsed": true,
    "ExecuteTime": {
     "end_time": "2023-05-05T19:11:29.661915322Z",
     "start_time": "2023-05-05T19:11:28.695340718Z"
    }
   },
   "outputs": [],
   "source": [
    "import matplotlib.pyplot as plt\n",
    "from lazypredict.Supervised import LazyClassifier, LazyRegressor\n",
    "from sklearn.model_selection import train_test_split\n",
    "import pandas as pd\n",
    "from sklearn.cluster import KMeans\n",
    "import  seaborn as sns\n",
    "import datasist as ds\n",
    "import numpy as np\n"
   ]
  },
  {
   "cell_type": "code",
   "execution_count": 2,
   "outputs": [],
   "source": [
    "data = pd.read_csv('/home/xcrown/workshop/RL-trader/RL_trader_env/data/all_stocks_5yr.csv')\n",
    "data.drop('Name',axis=1,inplace=True)"
   ],
   "metadata": {
    "collapsed": false,
    "ExecuteTime": {
     "end_time": "2023-05-05T19:11:31.133560150Z",
     "start_time": "2023-05-05T19:11:30.770579549Z"
    }
   }
  },
  {
   "cell_type": "code",
   "execution_count": 3,
   "outputs": [
    {
     "name": "stdout",
     "output_type": "stream",
     "text": [
      "First five data points\n"
     ]
    },
    {
     "data": {
      "text/plain": "        Date  Open  High   Low  Close    Volume\n0   2/8/2013 15.07 15.12 14.63  14.75   8407500\n1  2/11/2013 14.89 15.01 14.26  14.46   8882000\n2  2/12/2013 14.45 14.51 14.10  14.27   8126000\n3  2/13/2013 14.30 14.94 14.25  14.66  10259500\n4  2/14/2013 14.94 14.96 13.16  13.99  31879900",
      "text/html": "<div>\n<style scoped>\n    .dataframe tbody tr th:only-of-type {\n        vertical-align: middle;\n    }\n\n    .dataframe tbody tr th {\n        vertical-align: top;\n    }\n\n    .dataframe thead th {\n        text-align: right;\n    }\n</style>\n<table border=\"1\" class=\"dataframe\">\n  <thead>\n    <tr style=\"text-align: right;\">\n      <th></th>\n      <th>Date</th>\n      <th>Open</th>\n      <th>High</th>\n      <th>Low</th>\n      <th>Close</th>\n      <th>Volume</th>\n    </tr>\n  </thead>\n  <tbody>\n    <tr>\n      <th>0</th>\n      <td>2/8/2013</td>\n      <td>15.07</td>\n      <td>15.12</td>\n      <td>14.63</td>\n      <td>14.75</td>\n      <td>8407500</td>\n    </tr>\n    <tr>\n      <th>1</th>\n      <td>2/11/2013</td>\n      <td>14.89</td>\n      <td>15.01</td>\n      <td>14.26</td>\n      <td>14.46</td>\n      <td>8882000</td>\n    </tr>\n    <tr>\n      <th>2</th>\n      <td>2/12/2013</td>\n      <td>14.45</td>\n      <td>14.51</td>\n      <td>14.10</td>\n      <td>14.27</td>\n      <td>8126000</td>\n    </tr>\n    <tr>\n      <th>3</th>\n      <td>2/13/2013</td>\n      <td>14.30</td>\n      <td>14.94</td>\n      <td>14.25</td>\n      <td>14.66</td>\n      <td>10259500</td>\n    </tr>\n    <tr>\n      <th>4</th>\n      <td>2/14/2013</td>\n      <td>14.94</td>\n      <td>14.96</td>\n      <td>13.16</td>\n      <td>13.99</td>\n      <td>31879900</td>\n    </tr>\n  </tbody>\n</table>\n</div>"
     },
     "metadata": {},
     "output_type": "display_data"
    },
    {
     "name": "stdout",
     "output_type": "stream",
     "text": [
      "\n",
      "\n",
      "Random five data points\n"
     ]
    },
    {
     "data": {
      "text/plain": "              Date  Open   High   Low  Close    Volume\n597905  10/18/2016 63.05  63.15 62.45  62.54    941125\n239628   4/19/2017 32.47  32.54 31.98  32.04   3214041\n155296   1/10/2014 99.07 100.69 98.44  98.90   1210468\n327972  12/23/2015 15.57  16.59 15.52  16.41  49429337\n83102    7/27/2017 35.97  37.04 35.70  36.16   4730051",
      "text/html": "<div>\n<style scoped>\n    .dataframe tbody tr th:only-of-type {\n        vertical-align: middle;\n    }\n\n    .dataframe tbody tr th {\n        vertical-align: top;\n    }\n\n    .dataframe thead th {\n        text-align: right;\n    }\n</style>\n<table border=\"1\" class=\"dataframe\">\n  <thead>\n    <tr style=\"text-align: right;\">\n      <th></th>\n      <th>Date</th>\n      <th>Open</th>\n      <th>High</th>\n      <th>Low</th>\n      <th>Close</th>\n      <th>Volume</th>\n    </tr>\n  </thead>\n  <tbody>\n    <tr>\n      <th>597905</th>\n      <td>10/18/2016</td>\n      <td>63.05</td>\n      <td>63.15</td>\n      <td>62.45</td>\n      <td>62.54</td>\n      <td>941125</td>\n    </tr>\n    <tr>\n      <th>239628</th>\n      <td>4/19/2017</td>\n      <td>32.47</td>\n      <td>32.54</td>\n      <td>31.98</td>\n      <td>32.04</td>\n      <td>3214041</td>\n    </tr>\n    <tr>\n      <th>155296</th>\n      <td>1/10/2014</td>\n      <td>99.07</td>\n      <td>100.69</td>\n      <td>98.44</td>\n      <td>98.90</td>\n      <td>1210468</td>\n    </tr>\n    <tr>\n      <th>327972</th>\n      <td>12/23/2015</td>\n      <td>15.57</td>\n      <td>16.59</td>\n      <td>15.52</td>\n      <td>16.41</td>\n      <td>49429337</td>\n    </tr>\n    <tr>\n      <th>83102</th>\n      <td>7/27/2017</td>\n      <td>35.97</td>\n      <td>37.04</td>\n      <td>35.70</td>\n      <td>36.16</td>\n      <td>4730051</td>\n    </tr>\n  </tbody>\n</table>\n</div>"
     },
     "metadata": {},
     "output_type": "display_data"
    },
    {
     "name": "stdout",
     "output_type": "stream",
     "text": [
      "\n",
      "\n",
      "Last five data points\n"
     ]
    },
    {
     "data": {
      "text/plain": "            Date  Open  High   Low  Close   Volume\n619035  2/1/2018 76.84 78.27 76.69  77.82  2982259\n619036  2/2/2018 77.53 78.12 76.73  76.78  2595187\n619037  2/5/2018 76.64 76.92 73.18  73.83  2962031\n619038  2/6/2018 72.74 74.56 72.13  73.27  4924323\n619039  2/7/2018 72.70 75.00 72.69  73.86  4534912",
      "text/html": "<div>\n<style scoped>\n    .dataframe tbody tr th:only-of-type {\n        vertical-align: middle;\n    }\n\n    .dataframe tbody tr th {\n        vertical-align: top;\n    }\n\n    .dataframe thead th {\n        text-align: right;\n    }\n</style>\n<table border=\"1\" class=\"dataframe\">\n  <thead>\n    <tr style=\"text-align: right;\">\n      <th></th>\n      <th>Date</th>\n      <th>Open</th>\n      <th>High</th>\n      <th>Low</th>\n      <th>Close</th>\n      <th>Volume</th>\n    </tr>\n  </thead>\n  <tbody>\n    <tr>\n      <th>619035</th>\n      <td>2/1/2018</td>\n      <td>76.84</td>\n      <td>78.27</td>\n      <td>76.69</td>\n      <td>77.82</td>\n      <td>2982259</td>\n    </tr>\n    <tr>\n      <th>619036</th>\n      <td>2/2/2018</td>\n      <td>77.53</td>\n      <td>78.12</td>\n      <td>76.73</td>\n      <td>76.78</td>\n      <td>2595187</td>\n    </tr>\n    <tr>\n      <th>619037</th>\n      <td>2/5/2018</td>\n      <td>76.64</td>\n      <td>76.92</td>\n      <td>73.18</td>\n      <td>73.83</td>\n      <td>2962031</td>\n    </tr>\n    <tr>\n      <th>619038</th>\n      <td>2/6/2018</td>\n      <td>72.74</td>\n      <td>74.56</td>\n      <td>72.13</td>\n      <td>73.27</td>\n      <td>4924323</td>\n    </tr>\n    <tr>\n      <th>619039</th>\n      <td>2/7/2018</td>\n      <td>72.70</td>\n      <td>75.00</td>\n      <td>72.69</td>\n      <td>73.86</td>\n      <td>4534912</td>\n    </tr>\n  </tbody>\n</table>\n</div>"
     },
     "metadata": {},
     "output_type": "display_data"
    },
    {
     "name": "stdout",
     "output_type": "stream",
     "text": [
      "\n",
      "\n",
      "Shape of  data set: (619040, 6)\n",
      "\n",
      "\n",
      "Size of  data set: 3714240\n",
      "\n",
      "\n",
      "Data Types\n",
      "Note: All Non-numerical features are identified as objects in pandas\n"
     ]
    },
    {
     "data": {
      "text/plain": "       Data Type\nDate      object\nOpen     float64\nHigh     float64\nLow      float64\nClose    float64\nVolume     int64",
      "text/html": "<div>\n<style scoped>\n    .dataframe tbody tr th:only-of-type {\n        vertical-align: middle;\n    }\n\n    .dataframe tbody tr th {\n        vertical-align: top;\n    }\n\n    .dataframe thead th {\n        text-align: right;\n    }\n</style>\n<table border=\"1\" class=\"dataframe\">\n  <thead>\n    <tr style=\"text-align: right;\">\n      <th></th>\n      <th>Data Type</th>\n    </tr>\n  </thead>\n  <tbody>\n    <tr>\n      <th>Date</th>\n      <td>object</td>\n    </tr>\n    <tr>\n      <th>Open</th>\n      <td>float64</td>\n    </tr>\n    <tr>\n      <th>High</th>\n      <td>float64</td>\n    </tr>\n    <tr>\n      <th>Low</th>\n      <td>float64</td>\n    </tr>\n    <tr>\n      <th>Close</th>\n      <td>float64</td>\n    </tr>\n    <tr>\n      <th>Volume</th>\n      <td>int64</td>\n    </tr>\n  </tbody>\n</table>\n</div>"
     },
     "metadata": {},
     "output_type": "display_data"
    },
    {
     "name": "stdout",
     "output_type": "stream",
     "text": [
      "\n",
      "\n",
      "Numerical Features in Data set\n",
      "['Open', 'High', 'Low', 'Close', 'Volume']\n",
      "\n",
      "\n",
      "Categorical Features in Data set\n"
     ]
    },
    {
     "data": {
      "text/plain": "['Date']"
     },
     "metadata": {},
     "output_type": "display_data"
    },
    {
     "name": "stdout",
     "output_type": "stream",
     "text": [
      "\n",
      "\n",
      "Statistical Description of Columns\n"
     ]
    },
    {
     "data": {
      "text/plain": "           Open      High       Low     Close       Volume\ncount 619029.00 619032.00 619032.00 619040.00    619040.00\nmean      83.02     83.78     82.26     83.04   4321823.40\nstd       97.38     98.21     96.51     97.39   8693609.51\nmin        1.62      1.69      1.50      1.59         0.00\n25%       40.22     40.62     39.83     40.24   1070320.50\n50%       62.59     63.15     62.02     62.62   2082093.50\n75%       94.37     95.18     93.54     94.41   4284509.25\nmax     2044.00   2067.99   2035.11   2049.00 618237630.00",
      "text/html": "<div>\n<style scoped>\n    .dataframe tbody tr th:only-of-type {\n        vertical-align: middle;\n    }\n\n    .dataframe tbody tr th {\n        vertical-align: top;\n    }\n\n    .dataframe thead th {\n        text-align: right;\n    }\n</style>\n<table border=\"1\" class=\"dataframe\">\n  <thead>\n    <tr style=\"text-align: right;\">\n      <th></th>\n      <th>Open</th>\n      <th>High</th>\n      <th>Low</th>\n      <th>Close</th>\n      <th>Volume</th>\n    </tr>\n  </thead>\n  <tbody>\n    <tr>\n      <th>count</th>\n      <td>619029.00</td>\n      <td>619032.00</td>\n      <td>619032.00</td>\n      <td>619040.00</td>\n      <td>619040.00</td>\n    </tr>\n    <tr>\n      <th>mean</th>\n      <td>83.02</td>\n      <td>83.78</td>\n      <td>82.26</td>\n      <td>83.04</td>\n      <td>4321823.40</td>\n    </tr>\n    <tr>\n      <th>std</th>\n      <td>97.38</td>\n      <td>98.21</td>\n      <td>96.51</td>\n      <td>97.39</td>\n      <td>8693609.51</td>\n    </tr>\n    <tr>\n      <th>min</th>\n      <td>1.62</td>\n      <td>1.69</td>\n      <td>1.50</td>\n      <td>1.59</td>\n      <td>0.00</td>\n    </tr>\n    <tr>\n      <th>25%</th>\n      <td>40.22</td>\n      <td>40.62</td>\n      <td>39.83</td>\n      <td>40.24</td>\n      <td>1070320.50</td>\n    </tr>\n    <tr>\n      <th>50%</th>\n      <td>62.59</td>\n      <td>63.15</td>\n      <td>62.02</td>\n      <td>62.62</td>\n      <td>2082093.50</td>\n    </tr>\n    <tr>\n      <th>75%</th>\n      <td>94.37</td>\n      <td>95.18</td>\n      <td>93.54</td>\n      <td>94.41</td>\n      <td>4284509.25</td>\n    </tr>\n    <tr>\n      <th>max</th>\n      <td>2044.00</td>\n      <td>2067.99</td>\n      <td>2035.11</td>\n      <td>2049.00</td>\n      <td>618237630.00</td>\n    </tr>\n  </tbody>\n</table>\n</div>"
     },
     "metadata": {},
     "output_type": "display_data"
    },
    {
     "name": "stdout",
     "output_type": "stream",
     "text": [
      "\n",
      "\n",
      "Description of Categorical Features\n"
     ]
    },
    {
     "data": {
      "text/plain": "       count unique       top freq\nDate  619040   1259  2/7/2018  505",
      "text/html": "<div>\n<style scoped>\n    .dataframe tbody tr th:only-of-type {\n        vertical-align: middle;\n    }\n\n    .dataframe tbody tr th {\n        vertical-align: top;\n    }\n\n    .dataframe thead th {\n        text-align: right;\n    }\n</style>\n<table border=\"1\" class=\"dataframe\">\n  <thead>\n    <tr style=\"text-align: right;\">\n      <th></th>\n      <th>count</th>\n      <th>unique</th>\n      <th>top</th>\n      <th>freq</th>\n    </tr>\n  </thead>\n  <tbody>\n    <tr>\n      <th>Date</th>\n      <td>619040</td>\n      <td>1259</td>\n      <td>2/7/2018</td>\n      <td>505</td>\n    </tr>\n  </tbody>\n</table>\n</div>"
     },
     "metadata": {},
     "output_type": "display_data"
    },
    {
     "name": "stdout",
     "output_type": "stream",
     "text": [
      "\n",
      "\n",
      "Unique class Count of Categorical features\n"
     ]
    },
    {
     "data": {
      "text/plain": "<pandas.io.formats.style.Styler at 0x7f31c461f9a0>",
      "text/html": "<style type=\"text/css\">\n#T_0bc43_row0_col1 {\n  width: 10em;\n  background: linear-gradient(90deg, #d65f5f 100.0%, transparent 100.0%);\n}\n</style>\n<table id=\"T_0bc43\">\n  <thead>\n    <tr>\n      <th class=\"blank level0\" >&nbsp;</th>\n      <th id=\"T_0bc43_level0_col0\" class=\"col_heading level0 col0\" >Feature</th>\n      <th id=\"T_0bc43_level0_col1\" class=\"col_heading level0 col1\" >Unique Count</th>\n    </tr>\n  </thead>\n  <tbody>\n    <tr>\n      <th id=\"T_0bc43_level0_row0\" class=\"row_heading level0 row0\" >0</th>\n      <td id=\"T_0bc43_row0_col0\" class=\"data row0 col0\" >Date</td>\n      <td id=\"T_0bc43_row0_col1\" class=\"data row0 col1\" >1259</td>\n    </tr>\n  </tbody>\n</table>\n"
     },
     "metadata": {},
     "output_type": "display_data"
    },
    {
     "name": "stdout",
     "output_type": "stream",
     "text": [
      "\n",
      "\n",
      "Missing Values in Data\n"
     ]
    },
    {
     "data": {
      "text/plain": "  features  missing_counts  missing_percent\n0     Date               0             0.00\n1     Open              11             0.00\n2     High               8             0.00\n3      Low               8             0.00\n4    Close               0             0.00\n5   Volume               0             0.00",
      "text/html": "<div>\n<style scoped>\n    .dataframe tbody tr th:only-of-type {\n        vertical-align: middle;\n    }\n\n    .dataframe tbody tr th {\n        vertical-align: top;\n    }\n\n    .dataframe thead th {\n        text-align: right;\n    }\n</style>\n<table border=\"1\" class=\"dataframe\">\n  <thead>\n    <tr style=\"text-align: right;\">\n      <th></th>\n      <th>features</th>\n      <th>missing_counts</th>\n      <th>missing_percent</th>\n    </tr>\n  </thead>\n  <tbody>\n    <tr>\n      <th>0</th>\n      <td>Date</td>\n      <td>0</td>\n      <td>0.00</td>\n    </tr>\n    <tr>\n      <th>1</th>\n      <td>Open</td>\n      <td>11</td>\n      <td>0.00</td>\n    </tr>\n    <tr>\n      <th>2</th>\n      <td>High</td>\n      <td>8</td>\n      <td>0.00</td>\n    </tr>\n    <tr>\n      <th>3</th>\n      <td>Low</td>\n      <td>8</td>\n      <td>0.00</td>\n    </tr>\n    <tr>\n      <th>4</th>\n      <td>Close</td>\n      <td>0</td>\n      <td>0.00</td>\n    </tr>\n    <tr>\n      <th>5</th>\n      <td>Volume</td>\n      <td>0</td>\n      <td>0.00</td>\n    </tr>\n  </tbody>\n</table>\n</div>"
     },
     "metadata": {},
     "output_type": "display_data"
    }
   ],
   "source": [
    "ds.structdata.describe(data)"
   ],
   "metadata": {
    "collapsed": false,
    "ExecuteTime": {
     "end_time": "2023-05-05T19:11:31.653673316Z",
     "start_time": "2023-05-05T19:11:31.135553451Z"
    }
   }
  },
  {
   "cell_type": "code",
   "execution_count": 4,
   "outputs": [],
   "source": [
    "# droping the rows with missing values of daily_return\n",
    "data.dropna(inplace=True)"
   ],
   "metadata": {
    "collapsed": false,
    "ExecuteTime": {
     "end_time": "2023-05-05T19:11:32.573087824Z",
     "start_time": "2023-05-05T19:11:32.544890456Z"
    }
   }
  },
  {
   "cell_type": "code",
   "execution_count": 5,
   "outputs": [],
   "source": [
    "data.drop_duplicates(inplace=True)"
   ],
   "metadata": {
    "collapsed": false,
    "ExecuteTime": {
     "end_time": "2023-05-05T19:11:33.632015007Z",
     "start_time": "2023-05-05T19:11:33.353318426Z"
    }
   }
  },
  {
   "cell_type": "code",
   "execution_count": 6,
   "outputs": [
    {
     "data": {
      "text/plain": "(520354, 6)"
     },
     "execution_count": 6,
     "metadata": {},
     "output_type": "execute_result"
    }
   ],
   "source": [
    "# Calculate the IQR\n",
    "Q1 = data.quantile(0.25)\n",
    "Q3 = data.quantile(0.75)\n",
    "IQR = Q3 - Q1\n",
    "\n",
    "# Remove outliers\n",
    "df_out = data[~((data < (Q1 - 1.5 * IQR)) |(data > (Q3 + 1.5 * IQR))).any(axis=1)]\n",
    "df_out.shape"
   ],
   "metadata": {
    "collapsed": false,
    "ExecuteTime": {
     "end_time": "2023-05-05T19:11:34.041375883Z",
     "start_time": "2023-05-05T19:11:33.820571194Z"
    }
   }
  },
  {
   "cell_type": "code",
   "execution_count": 7,
   "outputs": [
    {
     "data": {
      "text/plain": "(600847, 6)"
     },
     "execution_count": 7,
     "metadata": {},
     "output_type": "execute_result"
    }
   ],
   "source": [
    "from scipy.stats import zscore\n",
    "# Calculate the z-scores\n",
    "z_scores = zscore(data.drop('Date',axis=1))\n",
    "\n",
    "# Define the threshold\n",
    "threshold = 3\n",
    "\n",
    "# Identify the outliers\n",
    "outliers = np.where(np.abs(z_scores) > threshold)\n",
    "\n",
    "dataset_no_outliers = data[(z_scores < threshold).all(axis=1)]\n",
    "\n",
    "dataset_no_outliers.shape"
   ],
   "metadata": {
    "collapsed": false,
    "ExecuteTime": {
     "end_time": "2023-05-05T19:11:34.559639929Z",
     "start_time": "2023-05-05T19:11:34.426771556Z"
    }
   }
  },
  {
   "cell_type": "markdown",
   "source": [
    "The Local Outlier Factor (LOF) method, which is a density-based method for identifying outliers. The LOF algorithm calculates the local density deviation of a given data point with respect to its neighbors. A point with a high LOF score is considered an outlier, as it has a significantly lower density compared to its neighboring points. This method can be useful for detecting outliers in high-dimensional data."
   ],
   "metadata": {
    "collapsed": false
   }
  },
  {
   "cell_type": "code",
   "execution_count": 10,
   "outputs": [],
   "source": [
    "from sklearn.neighbors import LocalOutlierFactor\n",
    "\n",
    "# Creating an instance of the LocalOutlierFactor class\n",
    "lof = LocalOutlierFactor(n_neighbors=20, contamination=0.1)\n",
    "\n",
    "# Fiting the model to the data\n",
    "lof.fit(data.drop('Date',axis=1))\n",
    "\n",
    "# Geting the outlier scores for each data point\n",
    "scores = lof.negative_outlier_factor_\n",
    "\n",
    "# Identifing the outliers based on a threshold value\n",
    "outliers_lof = data[scores < -threshold]"
   ],
   "metadata": {
    "collapsed": false,
    "ExecuteTime": {
     "end_time": "2023-05-05T19:12:05.111732472Z",
     "start_time": "2023-05-05T19:11:58.519191086Z"
    }
   }
  },
  {
   "cell_type": "markdown",
   "source": [
    "#  The Mahalanobis distance method"
   ],
   "metadata": {
    "collapsed": false
   }
  },
  {
   "cell_type": "markdown",
   "source": [
    "The Mahalanobis distance method, which takes into account the correlation between features. It calculates the distance of a given point from the mean of the data, but instead of using the standard Euclidean distance, it uses the Mahalanobis distance, which is a modified distance metric that takes into account the covariance structure of the data. Points that are far away from the mean using this distance metric are considered outliers. code for both"
   ],
   "metadata": {
    "collapsed": false
   }
  },
  {
   "cell_type": "code",
   "execution_count": 19,
   "outputs": [
    {
     "name": "stdout",
     "output_type": "stream",
     "text": [
      "[   531   1259   1260 ... 604483 608337 615852]\n"
     ]
    }
   ],
   "source": [
    "import numpy as np\n",
    "from scipy.spatial.distance import mahalanobis\n",
    "from scipy.stats import chi2\n",
    "\n",
    "# Generate some sample data\n",
    "X = data.drop('Date',axis=1).to_numpy()\n",
    "# Calculate the mean and covariance matrix of the data\n",
    "mean = np.mean(X, axis=0)\n",
    "cov = np.cov(X.T)\n",
    "\n",
    "# Calculate the inverse of the covariance matrix\n",
    "inv_cov = np.linalg.inv(cov)\n",
    "\n",
    "# Calculate the Mahalanobis distance for each data point\n",
    "distances = []\n",
    "for x in X:\n",
    "    d = mahalanobis(x, mean, inv_cov)\n",
    "    distances.append(d)\n",
    "\n",
    "# Calculate the threshold for outlier detection\n",
    "alpha = 0.05\n",
    "df = X.shape[1]\n",
    "threshold = chi2.ppf(1 - alpha, df)\n",
    "\n",
    "# Identify the outliers\n",
    "outliers = np.where(distances > threshold)[0]\n"
   ],
   "metadata": {
    "collapsed": false,
    "ExecuteTime": {
     "end_time": "2023-05-05T19:51:01.987652252Z",
     "start_time": "2023-05-05T19:50:58.536728398Z"
    }
   }
  },
  {
   "cell_type": "markdown",
   "source": [
    "I am creating a new feature in the dataset called 'daily_return'. The feature is calculated by taking the percentage change of the 'close' column. The percentage change, also known as the relative change, is a common method used to measure the change in a value over time. It is calculated by subtracting the previous value from the current value, and then dividing by the previous value. By taking the percentage change of the 'close' column, I am able to measure the daily return of the stock, which can be useful for understanding the volatility and performance of the stock over time. This feature can be useful for further analysis, such as identifying trends or patterns in the stock's performance, or for evaluating the risk and return of the stock relative to other stocks or benchmarks."
   ],
   "metadata": {
    "collapsed": false
   }
  },
  {
   "cell_type": "code",
   "execution_count": null,
   "outputs": [],
   "source": [],
   "metadata": {
    "collapsed": false
   }
  }
 ],
 "metadata": {
  "kernelspec": {
   "display_name": "Python 3",
   "language": "python",
   "name": "python3"
  },
  "language_info": {
   "codemirror_mode": {
    "name": "ipython",
    "version": 2
   },
   "file_extension": ".py",
   "mimetype": "text/x-python",
   "name": "python",
   "nbconvert_exporter": "python",
   "pygments_lexer": "ipython2",
   "version": "2.7.6"
  }
 },
 "nbformat": 4,
 "nbformat_minor": 0
}
