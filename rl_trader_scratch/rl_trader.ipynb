{
 "cells": [
  {
   "cell_type": "code",
   "execution_count": 1,
   "metadata": {
    "collapsed": true
   },
   "outputs": [],
   "source": [
    "import numpy as np\n",
    "import pandas as pd\n",
    "from keras.models import  Model\n",
    "from keras.layers import Dense,Input\n",
    "from keras.optimizers import Adam\n",
    "from datetime import  datetime\n",
    "import itertools\n",
    "import argparse\n",
    "import os\n",
    "import pickle\n",
    "from sklearn.preprocessing import StandardScaler"
   ]
  },
  {
   "cell_type": "code",
   "execution_count": null,
   "outputs": [],
   "source": [],
   "metadata": {
    "collapsed": false
   }
  },
  {
   "cell_type": "code",
   "execution_count": 2,
   "outputs": [],
   "source": [
    "def get_data():\n",
    "    df = pd.read_csv('aapl_msi_sbux.csv')\n",
    "    return df.values"
   ],
   "metadata": {
    "collapsed": false
   }
  },
  {
   "cell_type": "code",
   "execution_count": 3,
   "outputs": [],
   "source": [
    "class ReplayBuffer():\n",
    "    def __init__(self,obs_dim , act_dim,size): # store state and next state\n",
    "        self.obs1_buf = np.zeros([size,obs_dim],dtype=np.float32)\n",
    "        self.obs2_buf = np.zeros([size,obs_dim],dtype=np.float32)\n",
    "        self.acts_buf = np.zeros(size , dtype=np.uint8)\n",
    "        self.rews_buf = np.zeros(size , dtype=np.float32)\n",
    "        self.done_buf = np.zeros(size , dtype=np.uint8)\n",
    "        self.ptr , self.size , self.max_size = 0,0,size\n",
    "    def store (self, obs , act , rew  , next_obs, done):\n",
    "        self.obs1_buf = obs\n",
    "        self.obs2_buf = next_obs\n",
    "        self.acts_buf = act\n",
    "        self.rews_buf = rew\n",
    "        self.done_buf =done\n",
    "        self.ptr = (self.ptr+1) % self.max_size\n",
    "        self.size = min(self.size+1 , self.max_size)\n",
    "    def smaple_batch(self, batch_size=32):\n",
    "        idxs = np.random.randint(0,self.size,size=batch_size)\n",
    "        return dict(s=self,\n",
    "                    s2=self.obs1_buf[idxs],\n",
    "                    a=self.obs2_buf[idxs],\n",
    "                    r=self.acts_buf[idxs],\n",
    "                    d=self.rews_buf[idxs]\n",
    "                    )"
   ],
   "metadata": {
    "collapsed": false
   }
  },
  {
   "cell_type": "code",
   "execution_count": null,
   "outputs": [],
   "source": [
    "def get_scaler(env):\n",
    "    states = []\n",
    "    for _i in range(env.n_steps):\n",
    "        action = np.random.choice(env.action_space)\n",
    "        state,reward,done,info = env.step(action)\n",
    "        states.append(state)\n",
    "        if done:\n",
    "            break\n",
    "    scaler = StandardScaler()\n",
    "    scaler.fit(states)\n",
    "    return states"
   ],
   "metadata": {
    "collapsed": false
   }
  }
 ],
 "metadata": {
  "kernelspec": {
   "display_name": "Python 3",
   "language": "python",
   "name": "python3"
  },
  "language_info": {
   "codemirror_mode": {
    "name": "ipython",
    "version": 2
   },
   "file_extension": ".py",
   "mimetype": "text/x-python",
   "name": "python",
   "nbconvert_exporter": "python",
   "pygments_lexer": "ipython2",
   "version": "2.7.6"
  }
 },
 "nbformat": 4,
 "nbformat_minor": 0
}
