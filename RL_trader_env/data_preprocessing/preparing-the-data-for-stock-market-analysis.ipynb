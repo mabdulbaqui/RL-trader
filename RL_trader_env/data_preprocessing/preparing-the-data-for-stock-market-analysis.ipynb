{
 "metadata": {
  "kernelspec": {
   "display_name": "Python 3 (ipykernel)",
   "language": "python",
   "name": "python3"
  },
  "language_info": {
   "codemirror_mode": {
    "name": "ipython",
    "version": 3
   },
   "file_extension": ".py",
   "mimetype": "text/x-python",
   "name": "python",
   "nbconvert_exporter": "python",
   "pygments_lexer": "ipython3",
   "version": "3.9.7"
  }
 },
 "nbformat_minor": 5,
 "nbformat": 4,
 "cells": [
  {
   "cell_type": "markdown",
   "source": [
    "# Preparing the Data for Stock Market Analysis - Data Cleaning and Preprocessing"
   ],
   "metadata": {}
  },
  {
   "cell_type": "markdown",
   "source": [
    "#  Introduction:\n"
   ],
   "metadata": {}
  },
  {
   "cell_type": "markdown",
   "source": [
    "####  Author: \"[  Yassine Sfaihi  ]\""
   ],
   "metadata": {}
  },
  {
   "cell_type": "markdown",
   "source": [
    "\n",
    "In this notebook, I will be performing data cleaning and preprocessing on a dataset of stock market data. The goal of this step is to prepare the data for further analysis and visualization. This is just the first step in a multi-part analysis of the stock market and the cleaned data will be used in subsequent notebooks for exploratory data analysis (EDA) and modeling.\n",
    "\n",
    "I will be using various techniques such as z-score normalization to handle outliers and missing data imputation to handle missing values. I will also be removing unnecessary columns and renaming columns to make the data more readable. By the end of this notebook, I will have a clean and ready-to-use dataset for my next steps in analyzing the stock market."
   ],
   "metadata": {}
  },
  {
   "cell_type": "code",
   "source": [
    "import pandas as pd"
   ],
   "metadata": {},
   "execution_count": 44,
   "outputs": []
  },
  {
   "cell_type": "code",
   "source": [
    "# reading in dataset\n",
    "data = pd.read_csv(\"/home/yassine/Downloads/all_stocks_5yr.csv\")"
   ],
   "metadata": {},
   "execution_count": 45,
   "outputs": []
  },
  {
   "cell_type": "code",
   "source": [
    "# displaying first 5 rows of data\n",
    "print(data.head())"
   ],
   "metadata": {},
   "execution_count": 46,
   "outputs": [
    {
     "name": "stdout",
     "output_type": "stream",
     "text": "         date   open   high    low  close    volume Name\n\n0  2013-02-08  15.07  15.12  14.63  14.75   8407500  AAL\n\n1  2013-02-11  14.89  15.01  14.26  14.46   8882000  AAL\n\n2  2013-02-12  14.45  14.51  14.10  14.27   8126000  AAL\n\n3  2013-02-13  14.30  14.94  14.25  14.66  10259500  AAL\n\n4  2013-02-14  14.94  14.96  13.16  13.99  31879900  AAL\n"
    }
   ]
  },
  {
   "cell_type": "code",
   "source": [
    "# checking data types of columns\n",
    "print(data.dtypes)"
   ],
   "metadata": {},
   "execution_count": 47,
   "outputs": [
    {
     "name": "stdout",
     "output_type": "stream",
     "text": "date       object\n\nopen      float64\n\nhigh      float64\n\nlow       float64\n\nclose     float64\n\nvolume      int64\n\nName       object\n\ndtype: object\n"
    }
   ]
  },
  {
   "cell_type": "markdown",
   "source": [
    "#  Data preparation"
   ],
   "metadata": {}
  },
  {
   "cell_type": "markdown",
   "source": [
    "#  Missing values"
   ],
   "metadata": {}
  },
  {
   "cell_type": "code",
   "source": [
    "# checking for missing values\n",
    "print(data.isnull().sum())"
   ],
   "metadata": {},
   "execution_count": 48,
   "outputs": [
    {
     "name": "stdout",
     "output_type": "stream",
     "text": "date       0\n\nopen      11\n\nhigh       8\n\nlow        8\n\nclose      0\n\nvolume     0\n\nName       0\n\ndtype: int64\n"
    }
   ]
  },
  {
   "cell_type": "markdown",
   "source": [
    "In this case, we found that there were only 11 missing values in the 'open' column, 8 in the 'high' column, and 8 in the 'low' column. Since these missing values represent a very small proportion of the total number of observations in the dataset, which is approximately 690,000, it is reasonable to remove these rows from the dataset without significantly impacting the overall representativeness of the data. By removing the missing values, I am ensuring that my analysis is based on a complete and accurate dataset, which can improve the reliability and validity of my results."
   ],
   "metadata": {}
  },
  {
   "cell_type": "code",
   "source": [
    "# droping the rows with missing values of daily_return\n",
    "data.dropna(inplace=True)"
   ],
   "metadata": {},
   "execution_count": 49,
   "outputs": []
  },
  {
   "cell_type": "code",
   "source": [
    "# checking for duplicate rows\n",
    "duplicate_rows = data.duplicated()\n",
    "print(duplicate_rows.sum())\n",
    "\n"
   ],
   "metadata": {},
   "execution_count": 50,
   "outputs": [
    {
     "name": "stdout",
     "output_type": "stream",
     "text": "0\n"
    }
   ]
  },
  {
   "cell_type": "code",
   "source": [
    "# droping duplicate rows\n",
    "data.drop_duplicates(inplace=True)\n"
   ],
   "metadata": {},
   "execution_count": 51,
   "outputs": []
  },
  {
   "cell_type": "markdown",
   "source": [
    "#  Outliers"
   ],
   "metadata": {}
  },
  {
   "cell_type": "markdown",
   "source": [
    "#  Visualsing the outliers"
   ],
   "metadata": {}
  },
  {
   "cell_type": "markdown",
   "source": [
    "import seaborn as sns\n",
    "import matplotlib.pyplot as plt\n",
    "\n",
    "# Creating a figure with 3 columns and 2 rows\n",
    "fig, axes = plt.subplots(2, 3, figsize=(15, 8))\n",
    "\n",
    "# Creating a counter to keep track of the current subplot\n",
    "counter = 0\n",
    "data_without_name = data.drop(columns=[\"Name\",\"date\"])\n",
    "\n",
    "# Iterating through all columns of the dataframe\n",
    "for column in data_without_name.columns:\n",
    "    # Create a box plot for each column\n",
    "    ax = axes[counter // 3, counter % 3]\n",
    "    sns.boxplot(data[column], ax=ax)\n",
    "    ax.set_title(f\"Outliers in {column}\")\n",
    "    counter += 1\n",
    "\n",
    "# Showing the plot\n",
    "plt.show()\n",
    "\n"
   ],
   "metadata": {
    "collapsed": false
   }
  },
  {
   "cell_type": "markdown",
   "source": [
    "#  IQR method"
   ],
   "metadata": {}
  },
  {
   "cell_type": "markdown",
   "source": [
    "The IQR method, also known as the Tukey method, is a method for identifying outliers in a dataset. It is based on the interquartile range, which is the difference between the 75th and 25th percentiles of the dataset. Data points that are outside of the range of 1.5IQR to 3IQR are considered outliers."
   ],
   "metadata": {}
  },
  {
   "cell_type": "code",
   "source": [
    "# Calculate the IQR\n",
    "Q1 = data.quantile(0.25)\n",
    "Q3 = data.quantile(0.75)\n",
    "IQR = Q3 - Q1\n",
    "\n",
    "# Remove outliers\n",
    "df_out = data[~((data < (Q1 - 1.5 * IQR)) |(data > (Q3 + 1.5 * IQR))).any(axis=1)]"
   ],
   "metadata": {},
   "execution_count": 11,
   "outputs": []
  },
  {
   "cell_type": "code",
   "source": [
    "df_out"
   ],
   "metadata": {},
   "execution_count": 12,
   "outputs": [
    {
     "execution_count": 12,
     "output_type": "execute_result",
     "data": {
      "text/html": [
       "<div>\n",
       "<style scoped>\n",
       "    .dataframe tbody tr th:only-of-type {\n",
       "        vertical-align: middle;\n",
       "    }\n",
       "\n",
       "    .dataframe tbody tr th {\n",
       "        vertical-align: top;\n",
       "    }\n",
       "\n",
       "    .dataframe thead th {\n",
       "        text-align: right;\n",
       "    }\n",
       "</style>\n",
       "<table border=\"1\" class=\"dataframe\">\n",
       "  <thead>\n",
       "    <tr style=\"text-align: right;\">\n",
       "      <th></th>\n",
       "      <th>date</th>\n",
       "      <th>open</th>\n",
       "      <th>high</th>\n",
       "      <th>low</th>\n",
       "      <th>close</th>\n",
       "      <th>volume</th>\n",
       "      <th>Name</th>\n",
       "    </tr>\n",
       "  </thead>\n",
       "  <tbody>\n",
       "    <tr>\n",
       "      <th>0</th>\n",
       "      <td>2013-02-08</td>\n",
       "      <td>15.07</td>\n",
       "      <td>15.12</td>\n",
       "      <td>14.63</td>\n",
       "      <td>14.75</td>\n",
       "      <td>8407500</td>\n",
       "      <td>AAL</td>\n",
       "    </tr>\n",
       "    <tr>\n",
       "      <th>1</th>\n",
       "      <td>2013-02-11</td>\n",
       "      <td>14.89</td>\n",
       "      <td>15.01</td>\n",
       "      <td>14.26</td>\n",
       "      <td>14.46</td>\n",
       "      <td>8882000</td>\n",
       "      <td>AAL</td>\n",
       "    </tr>\n",
       "    <tr>\n",
       "      <th>2</th>\n",
       "      <td>2013-02-12</td>\n",
       "      <td>14.45</td>\n",
       "      <td>14.51</td>\n",
       "      <td>14.10</td>\n",
       "      <td>14.27</td>\n",
       "      <td>8126000</td>\n",
       "      <td>AAL</td>\n",
       "    </tr>\n",
       "    <tr>\n",
       "      <th>9</th>\n",
       "      <td>2013-02-22</td>\n",
       "      <td>13.57</td>\n",
       "      <td>13.60</td>\n",
       "      <td>13.21</td>\n",
       "      <td>13.57</td>\n",
       "      <td>6071400</td>\n",
       "      <td>AAL</td>\n",
       "    </tr>\n",
       "    <tr>\n",
       "      <th>10</th>\n",
       "      <td>2013-02-25</td>\n",
       "      <td>13.60</td>\n",
       "      <td>13.76</td>\n",
       "      <td>13.00</td>\n",
       "      <td>13.02</td>\n",
       "      <td>7186400</td>\n",
       "      <td>AAL</td>\n",
       "    </tr>\n",
       "    <tr>\n",
       "      <th>...</th>\n",
       "      <td>...</td>\n",
       "      <td>...</td>\n",
       "      <td>...</td>\n",
       "      <td>...</td>\n",
       "      <td>...</td>\n",
       "      <td>...</td>\n",
       "      <td>...</td>\n",
       "    </tr>\n",
       "    <tr>\n",
       "      <th>619035</th>\n",
       "      <td>2018-02-01</td>\n",
       "      <td>76.84</td>\n",
       "      <td>78.27</td>\n",
       "      <td>76.69</td>\n",
       "      <td>77.82</td>\n",
       "      <td>2982259</td>\n",
       "      <td>ZTS</td>\n",
       "    </tr>\n",
       "    <tr>\n",
       "      <th>619036</th>\n",
       "      <td>2018-02-02</td>\n",
       "      <td>77.53</td>\n",
       "      <td>78.12</td>\n",
       "      <td>76.73</td>\n",
       "      <td>76.78</td>\n",
       "      <td>2595187</td>\n",
       "      <td>ZTS</td>\n",
       "    </tr>\n",
       "    <tr>\n",
       "      <th>619037</th>\n",
       "      <td>2018-02-05</td>\n",
       "      <td>76.64</td>\n",
       "      <td>76.92</td>\n",
       "      <td>73.18</td>\n",
       "      <td>73.83</td>\n",
       "      <td>2962031</td>\n",
       "      <td>ZTS</td>\n",
       "    </tr>\n",
       "    <tr>\n",
       "      <th>619038</th>\n",
       "      <td>2018-02-06</td>\n",
       "      <td>72.74</td>\n",
       "      <td>74.56</td>\n",
       "      <td>72.13</td>\n",
       "      <td>73.27</td>\n",
       "      <td>4924323</td>\n",
       "      <td>ZTS</td>\n",
       "    </tr>\n",
       "    <tr>\n",
       "      <th>619039</th>\n",
       "      <td>2018-02-07</td>\n",
       "      <td>72.70</td>\n",
       "      <td>75.00</td>\n",
       "      <td>72.69</td>\n",
       "      <td>73.86</td>\n",
       "      <td>4534912</td>\n",
       "      <td>ZTS</td>\n",
       "    </tr>\n",
       "  </tbody>\n",
       "</table>\n",
       "<p>520354 rows × 7 columns</p>\n",
       "</div>"
      ],
      "text/plain": [
       "              date   open   high    low  close   volume Name\n",
       "0       2013-02-08  15.07  15.12  14.63  14.75  8407500  AAL\n",
       "1       2013-02-11  14.89  15.01  14.26  14.46  8882000  AAL\n",
       "2       2013-02-12  14.45  14.51  14.10  14.27  8126000  AAL\n",
       "9       2013-02-22  13.57  13.60  13.21  13.57  6071400  AAL\n",
       "10      2013-02-25  13.60  13.76  13.00  13.02  7186400  AAL\n",
       "...            ...    ...    ...    ...    ...      ...  ...\n",
       "619035  2018-02-01  76.84  78.27  76.69  77.82  2982259  ZTS\n",
       "619036  2018-02-02  77.53  78.12  76.73  76.78  2595187  ZTS\n",
       "619037  2018-02-05  76.64  76.92  73.18  73.83  2962031  ZTS\n",
       "619038  2018-02-06  72.74  74.56  72.13  73.27  4924323  ZTS\n",
       "619039  2018-02-07  72.70  75.00  72.69  73.86  4534912  ZTS\n",
       "\n",
       "[520354 rows x 7 columns]"
      ]
     },
     "metadata": {}
    }
   ]
  },
  {
   "cell_type": "markdown",
   "source": [
    "#   z-score method"
   ],
   "metadata": {}
  },
  {
   "cell_type": "markdown",
   "source": [
    "The z-score method is a statistical method for identifying outliers in a dataset. It calculates the difference between each data point and the mean of the dataset, in terms of the standard deviation of the dataset. Data points that have a z-score greater than a certain threshold (typically 3 or -3) are considered outliers."
   ],
   "metadata": {}
  },
  {
   "cell_type": "code",
   "source": [
    "import numpy as np\n",
    "\n",
    "# calculating the z-scores of the dataset\n",
    "z_scores = np.abs(stats.zscore(data))\n",
    "\n",
    "# seting a threshold for identifying outliers\n",
    "threshold = 3\n",
    "\n",
    "# identifing the outliers in the dataset\n",
    "outliers = np.where(z_scores > threshold)\n",
    "\n",
    "# removing the outliers from the dataset\n",
    "dataset_no_outliers = data[(z_scores < threshold).all(axis=1)]\n"
   ],
   "metadata": {},
   "execution_count": null,
   "outputs": []
  },
  {
   "cell_type": "markdown",
   "source": [
    "#  The Local Outlier Factor (LOF) method"
   ],
   "metadata": {}
  },
  {
   "cell_type": "markdown",
   "source": [
    "The Local Outlier Factor (LOF) method, which is a density-based method for identifying outliers. The LOF algorithm calculates the local density deviation of a given data point with respect to its neighbors. A point with a high LOF score is considered an outlier, as it has a significantly lower density compared to its neighboring points. This method can be useful for detecting outliers in high-dimensional data."
   ],
   "metadata": {}
  },
  {
   "cell_type": "code",
   "source": [
    "from sklearn.neighbors import LocalOutlierFactor\n",
    "\n",
    "# Creating an instance of the LocalOutlierFactor class\n",
    "lof = LocalOutlierFactor(n_neighbors=20, contamination=0.1)\n",
    "\n",
    "# Fiting the model to the data\n",
    "lof.fit(data)\n",
    "\n",
    "# Geting the outlier scores for each data point\n",
    "scores = lof.negative_outlier_factor_\n",
    "\n",
    "# Identifing the outliers based on a threshold value\n",
    "outliers = data[scores < -threshold]\n"
   ],
   "metadata": {},
   "execution_count": null,
   "outputs": []
  },
  {
   "cell_type": "markdown",
   "source": [
    "#  The Mahalanobis distance method"
   ],
   "metadata": {}
  },
  {
   "cell_type": "markdown",
   "source": [
    "The Mahalanobis distance method, which takes into account the correlation between features. It calculates the distance of a given point from the mean of the data, but instead of using the standard Euclidean distance, it uses the Mahalanobis distance, which is a modified distance metric that takes into account the covariance structure of the data. Points that are far away from the mean using this distance metric are considered outliers. code for both"
   ],
   "metadata": {}
  },
  {
   "cell_type": "code",
   "source": [
    "from scipy.spatial.distance import Mahalanobis\n",
    "from numpy import cov\n",
    "\n",
    "# Calculating the mean and covariance of the data\n",
    "mean = data.mean(axis=0)\n",
    "covariance = cov(data.T)\n",
    "\n",
    "# Creating an instance of the Mahalanobis class\n",
    "mahalanobis = Mahalanobis(mean, covariance)\n",
    "\n",
    "# Calculating the Mahalanobis distance for each data point\n",
    "distances = mahalanobis(data)\n",
    "\n",
    "# Identifing the outliers based on a threshold value\n",
    "outliers = data[distances > threshold]\n"
   ],
   "metadata": {},
   "execution_count": null,
   "outputs": []
  },
  {
   "cell_type": "markdown",
   "source": [
    "I am creating a new feature in the dataset called 'daily_return'. The feature is calculated by taking the percentage change of the 'close' column. The percentage change, also known as the relative change, is a common method used to measure the change in a value over time. It is calculated by subtracting the previous value from the current value, and then dividing by the previous value. By taking the percentage change of the 'close' column, I am able to measure the daily return of the stock, which can be useful for understanding the volatility and performance of the stock over time. This feature can be useful for further analysis, such as identifying trends or patterns in the stock's performance, or for evaluating the risk and return of the stock relative to other stocks or benchmarks."
   ],
   "metadata": {}
  },
  {
   "cell_type": "markdown",
   "source": [
    "#  Data consistency"
   ],
   "metadata": {}
  },
  {
   "cell_type": "code",
   "source": [
    "# Checking that all dates are in the correct format\n",
    "if not data['date'].str.match('\\d{4}-\\d{2}-\\d{2}').all():\n",
    "    print(\"Incorrect date format detected in the dataset.\")\n",
    "else: \n",
    "    print(\"NO Incorrect date format detected in the dataset.\")"
   ],
   "metadata": {},
   "execution_count": 52,
   "outputs": [
    {
     "name": "stdout",
     "output_type": "stream",
     "text": "NO Incorrect date format detected in the dataset.\n"
    }
   ]
  },
  {
   "cell_type": "markdown",
   "source": [
    "Checking that the volume of shares traded is not negative by using the .any() function to check if there are any negative values in the 'volume' column of the dataframe. "
   ],
   "metadata": {}
  },
  {
   "cell_type": "code",
   "source": [
    "# Checking that the volume of shares traded is not negative\n",
    "if (data['volume'] < 0).any():\n",
    "    print(\"Negative volume detected in the dataset.\")\n",
    "else: \n",
    "    print(\"NO Negative volume detected in the dataset.\")"
   ],
   "metadata": {},
   "execution_count": 53,
   "outputs": [
    {
     "name": "stdout",
     "output_type": "stream",
     "text": "NO Negative volume detected in the dataset.\n"
    }
   ]
  },
  {
   "cell_type": "markdown",
   "source": [
    "I am normalizing the 'close' and 'volume' columns by using standardization method, which makes the values of these columns have a mean of 0 and a standard deviation of 1. This makes data more comparable and consistent, which can help improve the accuracy and reliability of my analysis."
   ],
   "metadata": {}
  },
  {
   "cell_type": "code",
   "source": [
    "# normalizing the close and volume columns\n",
    "data['close'] = (data['close'] - data['close'].mean()) / data['close'].std()\n",
    "data['volume'] = (data['volume'] - data['volume'].mean()) / data['volume'].std()"
   ],
   "metadata": {},
   "execution_count": 54,
   "outputs": []
  },
  {
   "cell_type": "markdown",
   "source": [
    "#  Correlation"
   ],
   "metadata": {}
  },
  {
   "cell_type": "markdown",
   "source": [
    "The correlation matrix is a square matrix where the diagonal elements are always 1 (because a variable is perfectly correlated with itself) and the off-diagonal elements are between -1 and 1. Positive values indicate a positive correlation, meaning that as one variable increases, the other variable also increases. Negative values indicate a negative correlation, meaning that as one variable increases, the other variable decreases. The closer the correlation coefficient is to 1 or -1, the stronger the correlation."
   ],
   "metadata": {}
  },
  {
   "cell_type": "code",
   "source": [
    "import seaborn as sns\n",
    "corr = data.corr()\n",
    "\n",
    "sns.heatmap(corr, annot=True)"
   ],
   "metadata": {},
   "execution_count": 55,
   "outputs": [
    {
     "execution_count": 55,
     "output_type": "execute_result",
     "data": {
      "text/plain": [
       "<AxesSubplot:>"
      ]
     },
     "metadata": {}
    },
    {
     "output_type": "display_data",
     "data": {
      "image/png": "[encoded data removed]",
      "text/plain": [
       "<Figure size 432x288 with 2 Axes>"
      ]
     },
     "metadata": {
      "needs_background": "light"
     }
    }
   ]
  },
  {
   "cell_type": "markdown",
   "source": [
    "#  Feature engineering Create additional features"
   ],
   "metadata": {}
  },
  {
   "cell_type": "code",
   "source": [
    "# setting date column as index\n",
    "data.set_index('date', inplace=True)\n"
   ],
   "metadata": {},
   "execution_count": 15,
   "outputs": []
  },
  {
   "cell_type": "markdown",
   "source": [
    "'price_change': This feature calculates the difference between the closing price and the opening price for a given day, and can be used to determine the overall change in price for that day."
   ],
   "metadata": {}
  },
  {
   "cell_type": "code",
   "source": [
    "#Create a new feature 'price_change'\n",
    "data['price_change'] = data['close'] - data['open']"
   ],
   "metadata": {},
   "execution_count": 56,
   "outputs": []
  },
  {
   "cell_type": "markdown",
   "source": [
    "'returns': This feature calculates the percentage change in the closing price from one day to the next, and can be used to determine the overall change in price over time."
   ],
   "metadata": {}
  },
  {
   "cell_type": "code",
   "source": [
    "#Create a new feature 'returns'\n",
    "data['returns'] = data['close'].pct_change()"
   ],
   "metadata": {},
   "execution_count": 57,
   "outputs": []
  },
  {
   "cell_type": "markdown",
   "source": [
    "'average_price': This feature calculates the average of the opening and closing prices for a given day, and can be used as a general indicator of the average price for that day."
   ],
   "metadata": {}
  },
  {
   "cell_type": "code",
   "source": [
    "#Create a new feature 'average_price'\n",
    "data['average_price'] = (data['close'] + data['open']) / 2"
   ],
   "metadata": {},
   "execution_count": 58,
   "outputs": []
  },
  {
   "cell_type": "markdown",
   "source": [
    "'price_range': This feature calculates the difference between the highest and lowest prices for a given day, and can be used to determine the overall range of prices for that day."
   ],
   "metadata": {}
  },
  {
   "cell_type": "code",
   "source": [
    "#Create a new feature 'price_range'\n",
    "data['price_range'] = data['high'] - data['low']"
   ],
   "metadata": {},
   "execution_count": 59,
   "outputs": []
  },
  {
   "cell_type": "markdown",
   "source": [
    "'volume_change': This feature calculates the difference in trading volume from one day to the next, and can be used to determine the overall change in trading volume over time."
   ],
   "metadata": {}
  },
  {
   "cell_type": "code",
   "source": [
    "#Create a new feature 'volume_change'\n",
    "data['volume_change'] = data['volume'].diff()"
   ],
   "metadata": {},
   "execution_count": 60,
   "outputs": []
  },
  {
   "cell_type": "markdown",
   "source": [
    "'price_volume_correlation': This feature calculates the correlation coefficient between the closing price and trading volume for a given day, and can be used to determine the relationship between these two variables."
   ],
   "metadata": {}
  },
  {
   "cell_type": "code",
   "source": [
    "#Create a new feature 'price_volume_correlation'\n",
    "data['price_volume_correlation'] = data['close'].corr(data['volume'])"
   ],
   "metadata": {},
   "execution_count": 61,
   "outputs": []
  },
  {
   "cell_type": "markdown",
   "source": [
    "'returns_volume_correlation': This feature calculates the correlation coefficient between the returns and trading volume for a given day, and can be used to determine the relationship between these two variables."
   ],
   "metadata": {}
  },
  {
   "cell_type": "code",
   "source": [
    "#Create a new feature 'returns_volume_correlation'\n",
    "data['returns_volume_correlation'] = data['returns'].corr(data['volume'])"
   ],
   "metadata": {},
   "execution_count": 62,
   "outputs": []
  },
  {
   "cell_type": "markdown",
   "source": [
    "'price_volume_covariance': This feature calculates the covariance between the closing price and trading volume for a given day, and can be used to determine the relationship between these two variables."
   ],
   "metadata": {}
  },
  {
   "cell_type": "code",
   "source": [
    "#Create a new feature 'price_volume_covariance'\n",
    "data['price_volume_covariance'] = data['close'].cov(data['volume'])"
   ],
   "metadata": {},
   "execution_count": 63,
   "outputs": []
  },
  {
   "cell_type": "markdown",
   "source": [
    "'returns_volume_covariance': This feature calculates the covariance between the returns and trading volume for a given day, and can be used to determine the relationship between these two variables."
   ],
   "metadata": {}
  },
  {
   "cell_type": "code",
   "source": [
    "#Create a new feature 'returns_volume_covariance'\n",
    "data['returns_volume_covariance'] = data['returns'].cov(data['volume'])"
   ],
   "metadata": {},
   "execution_count": 64,
   "outputs": []
  },
  {
   "cell_type": "markdown",
   "source": [
    "'moving_average_5', 'moving_average_10', 'moving_average_20': These features calculate the moving average of the closing price over the previous 5, 10 and 20 days respectively, and can be used as indicators of the overall trend in the closing price over time."
   ],
   "metadata": {}
  },
  {
   "cell_type": "code",
   "source": [
    "#Create a new feature 'moving_average_5'\n",
    "data['moving_average_5'] = data['close'].rolling(window=5).mean()"
   ],
   "metadata": {},
   "execution_count": 65,
   "outputs": []
  },
  {
   "cell_type": "code",
   "source": [
    "#Create a new feature 'moving_average_10'\n",
    "data['moving_average_10'] = data['close'].rolling(window=10).mean()"
   ],
   "metadata": {},
   "execution_count": 66,
   "outputs": []
  },
  {
   "cell_type": "code",
   "source": [
    "#Create a new feature 'moving_average_20'\n",
    "data['moving_average_20'] = data['close'].rolling(window=20).mean()"
   ],
   "metadata": {},
   "execution_count": 67,
   "outputs": []
  },
  {
   "cell_type": "markdown",
   "source": [
    "'exponential_moving_average_5', 'exponential_moving_average_10', 'exponential_moving_average_20': These features calculate the exponential moving average of the closing price over the previous 5, 10 and 20 days respectively, and can be used as indicators of the overall trend in the closing price over time."
   ],
   "metadata": {}
  },
  {
   "cell_type": "code",
   "source": [
    "#Create a new feature 'exponential_moving_average_5'\n",
    "data['exponential_moving_average_5'] = data['close'].ewm(span=5).mean()"
   ],
   "metadata": {},
   "execution_count": 68,
   "outputs": []
  },
  {
   "cell_type": "code",
   "source": [
    "#Create a new feature 'exponential_moving_average_10'\n",
    "data['exponential_moving_average_10'] = data['close'].ewm(span=10).mean()"
   ],
   "metadata": {},
   "execution_count": 69,
   "outputs": []
  },
  {
   "cell_type": "code",
   "source": [
    "#Create a new feature 'exponential_moving_average_20'\n",
    "data['exponential_moving_average_20'] = data['close'].ewm(span=20).mean()"
   ],
   "metadata": {},
   "execution_count": 70,
   "outputs": []
  },
  {
   "cell_type": "markdown",
   "source": [
    "'macd': This feature calculates the difference between the 12-day and 26-day exponential moving averages of the closing price, and can be used as an indicator of the overall trend in the closing price over time."
   ],
   "metadata": {}
  },
  {
   "cell_type": "code",
   "source": [
    "data['exponential_moving_average_12'] = data['close'].ewm(span=12).mean()\n",
    "data['exponential_moving_average_26'] = data['close'].ewm(span=26).mean()\n"
   ],
   "metadata": {},
   "execution_count": 71,
   "outputs": []
  },
  {
   "cell_type": "code",
   "source": [
    "#Create a new feature 'macd'\n",
    "data['macd'] = data['exponential_moving_average_12'] - data['exponential_moving_average_26']"
   ],
   "metadata": {},
   "execution_count": 72,
   "outputs": []
  },
  {
   "cell_type": "markdown",
   "source": [
    "'macd_signal': This feature calculates the 9-day moving average of the macd, and can be used as an indicator of the overall trend in the macd over time."
   ],
   "metadata": {}
  },
  {
   "cell_type": "code",
   "source": [
    "#Create a new feature 'macd_signal'\n",
    "data['macd_signal'] = data['macd'].rolling(window=9).mean()"
   ],
   "metadata": {},
   "execution_count": 73,
   "outputs": []
  },
  {
   "cell_type": "markdown",
   "source": [
    "'macd_histogram': This feature calculates the difference between the macd and macd_signal, and can be used as an indicator of the overall trend in the macd over time."
   ],
   "metadata": {}
  },
  {
   "cell_type": "code",
   "source": [
    "#Create a new feature 'macd_histogram'\n",
    "data['macd_histogram'] = data['macd'] - data['macd_signal']"
   ],
   "metadata": {},
   "execution_count": 74,
   "outputs": []
  },
  {
   "cell_type": "markdown",
   "source": [
    "'rsi': This feature calculates the relative strength index (RSI) which is a measure of the strength of a stock's price action. RSI ranges from 0 to 100 and is calculated as 100 - (100/(1+RS)) where RS = Average gain of up periods / Average loss of down periods."
   ],
   "metadata": {}
  },
  {
   "cell_type": "code",
   "source": [
    "#Create a new feature 'rsi'\n",
    "gain = data['close'].diff()\n",
    "gain[gain < 0] = 0\n",
    "loss = - data['close'].diff()\n",
    "loss[loss < 0] = 0\n",
    "avg_gain = gain.rolling(window=14).mean()\n",
    "avg_loss = loss.rolling(window=14).mean()\n",
    "rs = avg_gain / avg_loss"
   ],
   "metadata": {},
   "execution_count": 75,
   "outputs": []
  },
  {
   "cell_type": "code",
   "source": [
    "data"
   ],
   "metadata": {},
   "execution_count": 79,
   "outputs": [
    {
     "execution_count": 79,
     "output_type": "execute_result",
     "data": {
      "text/html": [
       "<div>\n",
       "<style scoped>\n",
       "    .dataframe tbody tr th:only-of-type {\n",
       "        vertical-align: middle;\n",
       "    }\n",
       "\n",
       "    .dataframe tbody tr th {\n",
       "        vertical-align: top;\n",
       "    }\n",
       "\n",
       "    .dataframe thead th {\n",
       "        text-align: right;\n",
       "    }\n",
       "</style>\n",
       "<table border=\"1\" class=\"dataframe\">\n",
       "  <thead>\n",
       "    <tr style=\"text-align: right;\">\n",
       "      <th></th>\n",
       "      <th>date</th>\n",
       "      <th>open</th>\n",
       "      <th>high</th>\n",
       "      <th>low</th>\n",
       "      <th>close</th>\n",
       "      <th>volume</th>\n",
       "      <th>Name</th>\n",
       "      <th>price_change</th>\n",
       "      <th>returns</th>\n",
       "      <th>average_price</th>\n",
       "      <th>...</th>\n",
       "      <th>moving_average_10</th>\n",
       "      <th>moving_average_20</th>\n",
       "      <th>exponential_moving_average_5</th>\n",
       "      <th>exponential_moving_average_10</th>\n",
       "      <th>exponential_moving_average_20</th>\n",
       "      <th>exponential_moving_average_12</th>\n",
       "      <th>exponential_moving_average_26</th>\n",
       "      <th>macd</th>\n",
       "      <th>macd_signal</th>\n",
       "      <th>macd_histogram</th>\n",
       "    </tr>\n",
       "  </thead>\n",
       "  <tbody>\n",
       "    <tr>\n",
       "      <th>19</th>\n",
       "      <td>2013-03-08</td>\n",
       "      <td>14.99</td>\n",
       "      <td>15.20</td>\n",
       "      <td>14.84</td>\n",
       "      <td>-0.699498</td>\n",
       "      <td>0.721422</td>\n",
       "      <td>AAL</td>\n",
       "      <td>-15.689498</td>\n",
       "      <td>-0.001466</td>\n",
       "      <td>7.145251</td>\n",
       "      <td>...</td>\n",
       "      <td>-0.709981</td>\n",
       "      <td>-0.708867</td>\n",
       "      <td>-0.703775</td>\n",
       "      <td>-0.706829</td>\n",
       "      <td>-0.708357</td>\n",
       "      <td>-0.707392</td>\n",
       "      <td>-0.708599</td>\n",
       "      <td>0.001207</td>\n",
       "      <td>-0.000600</td>\n",
       "      <td>0.001807</td>\n",
       "    </tr>\n",
       "    <tr>\n",
       "      <th>20</th>\n",
       "      <td>2013-03-11</td>\n",
       "      <td>14.85</td>\n",
       "      <td>15.15</td>\n",
       "      <td>14.71</td>\n",
       "      <td>-0.697341</td>\n",
       "      <td>0.303659</td>\n",
       "      <td>AAL</td>\n",
       "      <td>-15.547341</td>\n",
       "      <td>-0.003083</td>\n",
       "      <td>7.076329</td>\n",
       "      <td>...</td>\n",
       "      <td>-0.707815</td>\n",
       "      <td>-0.708672</td>\n",
       "      <td>-0.701630</td>\n",
       "      <td>-0.705078</td>\n",
       "      <td>-0.707162</td>\n",
       "      <td>-0.705798</td>\n",
       "      <td>-0.707558</td>\n",
       "      <td>0.001760</td>\n",
       "      <td>-0.000235</td>\n",
       "      <td>0.001996</td>\n",
       "    </tr>\n",
       "    <tr>\n",
       "      <th>21</th>\n",
       "      <td>2013-03-12</td>\n",
       "      <td>15.14</td>\n",
       "      <td>15.60</td>\n",
       "      <td>14.95</td>\n",
       "      <td>-0.693542</td>\n",
       "      <td>0.538001</td>\n",
       "      <td>AAL</td>\n",
       "      <td>-15.833542</td>\n",
       "      <td>-0.005448</td>\n",
       "      <td>7.223229</td>\n",
       "      <td>...</td>\n",
       "      <td>-0.705515</td>\n",
       "      <td>-0.708138</td>\n",
       "      <td>-0.698934</td>\n",
       "      <td>-0.702955</td>\n",
       "      <td>-0.705704</td>\n",
       "      <td>-0.703863</td>\n",
       "      <td>-0.706286</td>\n",
       "      <td>0.002423</td>\n",
       "      <td>0.000200</td>\n",
       "      <td>0.002222</td>\n",
       "    </tr>\n",
       "    <tr>\n",
       "      <th>22</th>\n",
       "      <td>2013-03-13</td>\n",
       "      <td>15.54</td>\n",
       "      <td>16.20</td>\n",
       "      <td>15.48</td>\n",
       "      <td>-0.689332</td>\n",
       "      <td>0.811867</td>\n",
       "      <td>AAL</td>\n",
       "      <td>-16.229332</td>\n",
       "      <td>-0.006070</td>\n",
       "      <td>7.425334</td>\n",
       "      <td>...</td>\n",
       "      <td>-0.702948</td>\n",
       "      <td>-0.707296</td>\n",
       "      <td>-0.695733</td>\n",
       "      <td>-0.700453</td>\n",
       "      <td>-0.703971</td>\n",
       "      <td>-0.701579</td>\n",
       "      <td>-0.704772</td>\n",
       "      <td>0.003194</td>\n",
       "      <td>0.000715</td>\n",
       "      <td>0.002478</td>\n",
       "    </tr>\n",
       "    <tr>\n",
       "      <th>23</th>\n",
       "      <td>2013-03-14</td>\n",
       "      <td>15.98</td>\n",
       "      <td>16.36</td>\n",
       "      <td>15.93</td>\n",
       "      <td>-0.685841</td>\n",
       "      <td>0.467168</td>\n",
       "      <td>AAL</td>\n",
       "      <td>-16.665841</td>\n",
       "      <td>-0.005065</td>\n",
       "      <td>7.647080</td>\n",
       "      <td>...</td>\n",
       "      <td>-0.700052</td>\n",
       "      <td>-0.706480</td>\n",
       "      <td>-0.692435</td>\n",
       "      <td>-0.697775</td>\n",
       "      <td>-0.702073</td>\n",
       "      <td>-0.699113</td>\n",
       "      <td>-0.703107</td>\n",
       "      <td>0.003995</td>\n",
       "      <td>0.001301</td>\n",
       "      <td>0.002694</td>\n",
       "    </tr>\n",
       "    <tr>\n",
       "      <th>...</th>\n",
       "      <td>...</td>\n",
       "      <td>...</td>\n",
       "      <td>...</td>\n",
       "      <td>...</td>\n",
       "      <td>...</td>\n",
       "      <td>...</td>\n",
       "      <td>...</td>\n",
       "      <td>...</td>\n",
       "      <td>...</td>\n",
       "      <td>...</td>\n",
       "      <td>...</td>\n",
       "      <td>...</td>\n",
       "      <td>...</td>\n",
       "      <td>...</td>\n",
       "      <td>...</td>\n",
       "      <td>...</td>\n",
       "      <td>...</td>\n",
       "      <td>...</td>\n",
       "      <td>...</td>\n",
       "      <td>...</td>\n",
       "      <td>...</td>\n",
       "    </tr>\n",
       "    <tr>\n",
       "      <th>619035</th>\n",
       "      <td>2018-02-01</td>\n",
       "      <td>76.84</td>\n",
       "      <td>78.27</td>\n",
       "      <td>76.69</td>\n",
       "      <td>-0.053633</td>\n",
       "      <td>-0.154093</td>\n",
       "      <td>ZTS</td>\n",
       "      <td>-76.893633</td>\n",
       "      <td>-0.172651</td>\n",
       "      <td>38.393183</td>\n",
       "      <td>...</td>\n",
       "      <td>-0.050307</td>\n",
       "      <td>-0.067593</td>\n",
       "      <td>-0.052165</td>\n",
       "      <td>-0.054634</td>\n",
       "      <td>-0.066036</td>\n",
       "      <td>-0.056773</td>\n",
       "      <td>-0.072514</td>\n",
       "      <td>0.015742</td>\n",
       "      <td>0.017102</td>\n",
       "      <td>-0.001360</td>\n",
       "    </tr>\n",
       "    <tr>\n",
       "      <th>619036</th>\n",
       "      <td>2018-02-02</td>\n",
       "      <td>77.53</td>\n",
       "      <td>78.12</td>\n",
       "      <td>76.73</td>\n",
       "      <td>-0.064312</td>\n",
       "      <td>-0.198616</td>\n",
       "      <td>ZTS</td>\n",
       "      <td>-77.594312</td>\n",
       "      <td>0.199108</td>\n",
       "      <td>38.732844</td>\n",
       "      <td>...</td>\n",
       "      <td>-0.050142</td>\n",
       "      <td>-0.065411</td>\n",
       "      <td>-0.056214</td>\n",
       "      <td>-0.056394</td>\n",
       "      <td>-0.065872</td>\n",
       "      <td>-0.057932</td>\n",
       "      <td>-0.071907</td>\n",
       "      <td>0.013974</td>\n",
       "      <td>0.017031</td>\n",
       "      <td>-0.003057</td>\n",
       "    </tr>\n",
       "    <tr>\n",
       "      <th>619037</th>\n",
       "      <td>2018-02-05</td>\n",
       "      <td>76.64</td>\n",
       "      <td>76.92</td>\n",
       "      <td>73.18</td>\n",
       "      <td>-0.094603</td>\n",
       "      <td>-0.156420</td>\n",
       "      <td>ZTS</td>\n",
       "      <td>-76.734603</td>\n",
       "      <td>0.470997</td>\n",
       "      <td>38.272698</td>\n",
       "      <td>...</td>\n",
       "      <td>-0.053890</td>\n",
       "      <td>-0.065170</td>\n",
       "      <td>-0.069010</td>\n",
       "      <td>-0.063341</td>\n",
       "      <td>-0.068609</td>\n",
       "      <td>-0.063574</td>\n",
       "      <td>-0.073588</td>\n",
       "      <td>0.010014</td>\n",
       "      <td>0.016439</td>\n",
       "      <td>-0.006425</td>\n",
       "    </tr>\n",
       "    <tr>\n",
       "      <th>619038</th>\n",
       "      <td>2018-02-06</td>\n",
       "      <td>72.74</td>\n",
       "      <td>74.56</td>\n",
       "      <td>72.13</td>\n",
       "      <td>-0.100353</td>\n",
       "      <td>0.069295</td>\n",
       "      <td>ZTS</td>\n",
       "      <td>-72.840353</td>\n",
       "      <td>0.060782</td>\n",
       "      <td>36.319823</td>\n",
       "      <td>...</td>\n",
       "      <td>-0.058326</td>\n",
       "      <td>-0.065668</td>\n",
       "      <td>-0.079458</td>\n",
       "      <td>-0.070070</td>\n",
       "      <td>-0.071632</td>\n",
       "      <td>-0.069232</td>\n",
       "      <td>-0.075571</td>\n",
       "      <td>0.006338</td>\n",
       "      <td>0.015328</td>\n",
       "      <td>-0.008990</td>\n",
       "    </tr>\n",
       "    <tr>\n",
       "      <th>619039</th>\n",
       "      <td>2018-02-07</td>\n",
       "      <td>72.70</td>\n",
       "      <td>75.00</td>\n",
       "      <td>72.69</td>\n",
       "      <td>-0.094295</td>\n",
       "      <td>0.024503</td>\n",
       "      <td>ZTS</td>\n",
       "      <td>-72.794295</td>\n",
       "      <td>-0.060369</td>\n",
       "      <td>36.302852</td>\n",
       "      <td>...</td>\n",
       "      <td>-0.062916</td>\n",
       "      <td>-0.066309</td>\n",
       "      <td>-0.084404</td>\n",
       "      <td>-0.074475</td>\n",
       "      <td>-0.073790</td>\n",
       "      <td>-0.073088</td>\n",
       "      <td>-0.076958</td>\n",
       "      <td>0.003869</td>\n",
       "      <td>0.013791</td>\n",
       "      <td>-0.009922</td>\n",
       "    </tr>\n",
       "  </tbody>\n",
       "</table>\n",
       "<p>619010 rows × 27 columns</p>\n",
       "</div>"
      ],
      "text/plain": [
       "              date   open   high    low     close    volume Name  \\\n",
       "19      2013-03-08  14.99  15.20  14.84 -0.699498  0.721422  AAL   \n",
       "20      2013-03-11  14.85  15.15  14.71 -0.697341  0.303659  AAL   \n",
       "21      2013-03-12  15.14  15.60  14.95 -0.693542  0.538001  AAL   \n",
       "22      2013-03-13  15.54  16.20  15.48 -0.689332  0.811867  AAL   \n",
       "23      2013-03-14  15.98  16.36  15.93 -0.685841  0.467168  AAL   \n",
       "...            ...    ...    ...    ...       ...       ...  ...   \n",
       "619035  2018-02-01  76.84  78.27  76.69 -0.053633 -0.154093  ZTS   \n",
       "619036  2018-02-02  77.53  78.12  76.73 -0.064312 -0.198616  ZTS   \n",
       "619037  2018-02-05  76.64  76.92  73.18 -0.094603 -0.156420  ZTS   \n",
       "619038  2018-02-06  72.74  74.56  72.13 -0.100353  0.069295  ZTS   \n",
       "619039  2018-02-07  72.70  75.00  72.69 -0.094295  0.024503  ZTS   \n",
       "\n",
       "        price_change   returns  average_price  ...  moving_average_10  \\\n",
       "19        -15.689498 -0.001466       7.145251  ...          -0.709981   \n",
       "20        -15.547341 -0.003083       7.076329  ...          -0.707815   \n",
       "21        -15.833542 -0.005448       7.223229  ...          -0.705515   \n",
       "22        -16.229332 -0.006070       7.425334  ...          -0.702948   \n",
       "23        -16.665841 -0.005065       7.647080  ...          -0.700052   \n",
       "...              ...       ...            ...  ...                ...   \n",
       "619035    -76.893633 -0.172651      38.393183  ...          -0.050307   \n",
       "619036    -77.594312  0.199108      38.732844  ...          -0.050142   \n",
       "619037    -76.734603  0.470997      38.272698  ...          -0.053890   \n",
       "619038    -72.840353  0.060782      36.319823  ...          -0.058326   \n",
       "619039    -72.794295 -0.060369      36.302852  ...          -0.062916   \n",
       "\n",
       "        moving_average_20  exponential_moving_average_5  \\\n",
       "19              -0.708867                     -0.703775   \n",
       "20              -0.708672                     -0.701630   \n",
       "21              -0.708138                     -0.698934   \n",
       "22              -0.707296                     -0.695733   \n",
       "23              -0.706480                     -0.692435   \n",
       "...                   ...                           ...   \n",
       "619035          -0.067593                     -0.052165   \n",
       "619036          -0.065411                     -0.056214   \n",
       "619037          -0.065170                     -0.069010   \n",
       "619038          -0.065668                     -0.079458   \n",
       "619039          -0.066309                     -0.084404   \n",
       "\n",
       "        exponential_moving_average_10  exponential_moving_average_20  \\\n",
       "19                          -0.706829                      -0.708357   \n",
       "20                          -0.705078                      -0.707162   \n",
       "21                          -0.702955                      -0.705704   \n",
       "22                          -0.700453                      -0.703971   \n",
       "23                          -0.697775                      -0.702073   \n",
       "...                               ...                            ...   \n",
       "619035                      -0.054634                      -0.066036   \n",
       "619036                      -0.056394                      -0.065872   \n",
       "619037                      -0.063341                      -0.068609   \n",
       "619038                      -0.070070                      -0.071632   \n",
       "619039                      -0.074475                      -0.073790   \n",
       "\n",
       "        exponential_moving_average_12  exponential_moving_average_26  \\\n",
       "19                          -0.707392                      -0.708599   \n",
       "20                          -0.705798                      -0.707558   \n",
       "21                          -0.703863                      -0.706286   \n",
       "22                          -0.701579                      -0.704772   \n",
       "23                          -0.699113                      -0.703107   \n",
       "...                               ...                            ...   \n",
       "619035                      -0.056773                      -0.072514   \n",
       "619036                      -0.057932                      -0.071907   \n",
       "619037                      -0.063574                      -0.073588   \n",
       "619038                      -0.069232                      -0.075571   \n",
       "619039                      -0.073088                      -0.076958   \n",
       "\n",
       "            macd  macd_signal  macd_histogram  \n",
       "19      0.001207    -0.000600        0.001807  \n",
       "20      0.001760    -0.000235        0.001996  \n",
       "21      0.002423     0.000200        0.002222  \n",
       "22      0.003194     0.000715        0.002478  \n",
       "23      0.003995     0.001301        0.002694  \n",
       "...          ...          ...             ...  \n",
       "619035  0.015742     0.017102       -0.001360  \n",
       "619036  0.013974     0.017031       -0.003057  \n",
       "619037  0.010014     0.016439       -0.006425  \n",
       "619038  0.006338     0.015328       -0.008990  \n",
       "619039  0.003869     0.013791       -0.009922  \n",
       "\n",
       "[619010 rows x 27 columns]"
      ]
     },
     "metadata": {}
    }
   ]
  },
  {
   "cell_type": "code",
   "source": [
    "cleaned_data=data"
   ],
   "metadata": {},
   "execution_count": 80,
   "outputs": []
  },
  {
   "cell_type": "code",
   "source": [
    "# Printing a summary of the numerical columns in the cleaned dataset\n",
    "cleaned_data.describe()"
   ],
   "metadata": {},
   "execution_count": 81,
   "outputs": [
    {
     "execution_count": 81,
     "output_type": "execute_result",
     "data": {
      "text/html": [
       "<div>\n",
       "<style scoped>\n",
       "    .dataframe tbody tr th:only-of-type {\n",
       "        vertical-align: middle;\n",
       "    }\n",
       "\n",
       "    .dataframe tbody tr th {\n",
       "        vertical-align: top;\n",
       "    }\n",
       "\n",
       "    .dataframe thead th {\n",
       "        text-align: right;\n",
       "    }\n",
       "</style>\n",
       "<table border=\"1\" class=\"dataframe\">\n",
       "  <thead>\n",
       "    <tr style=\"text-align: right;\">\n",
       "      <th></th>\n",
       "      <th>open</th>\n",
       "      <th>high</th>\n",
       "      <th>low</th>\n",
       "      <th>close</th>\n",
       "      <th>volume</th>\n",
       "      <th>price_change</th>\n",
       "      <th>returns</th>\n",
       "      <th>average_price</th>\n",
       "      <th>price_range</th>\n",
       "      <th>volume_change</th>\n",
       "      <th>...</th>\n",
       "      <th>moving_average_10</th>\n",
       "      <th>moving_average_20</th>\n",
       "      <th>exponential_moving_average_5</th>\n",
       "      <th>exponential_moving_average_10</th>\n",
       "      <th>exponential_moving_average_20</th>\n",
       "      <th>exponential_moving_average_12</th>\n",
       "      <th>exponential_moving_average_26</th>\n",
       "      <th>macd</th>\n",
       "      <th>macd_signal</th>\n",
       "      <th>macd_histogram</th>\n",
       "    </tr>\n",
       "  </thead>\n",
       "  <tbody>\n",
       "    <tr>\n",
       "      <th>count</th>\n",
       "      <td>619010.000000</td>\n",
       "      <td>619010.000000</td>\n",
       "      <td>619010.000000</td>\n",
       "      <td>619010.000000</td>\n",
       "      <td>619010.000000</td>\n",
       "      <td>619010.000000</td>\n",
       "      <td>619010.000000</td>\n",
       "      <td>619010.000000</td>\n",
       "      <td>619010.000000</td>\n",
       "      <td>6.190100e+05</td>\n",
       "      <td>...</td>\n",
       "      <td>619010.000000</td>\n",
       "      <td>619010.000000</td>\n",
       "      <td>619010.000000</td>\n",
       "      <td>619010.000000</td>\n",
       "      <td>619010.000000</td>\n",
       "      <td>619010.000000</td>\n",
       "      <td>619010.000000</td>\n",
       "      <td>619010.000000</td>\n",
       "      <td>619010.000000</td>\n",
       "      <td>6.190100e+05</td>\n",
       "    </tr>\n",
       "    <tr>\n",
       "      <th>mean</th>\n",
       "      <td>83.025452</td>\n",
       "      <td>83.780551</td>\n",
       "      <td>82.258306</td>\n",
       "      <td>0.000022</td>\n",
       "      <td>-0.000022</td>\n",
       "      <td>-83.025430</td>\n",
       "      <td>0.002371</td>\n",
       "      <td>41.512737</td>\n",
       "      <td>1.522246</td>\n",
       "      <td>-8.529990e-07</td>\n",
       "      <td>...</td>\n",
       "      <td>0.000017</td>\n",
       "      <td>0.000012</td>\n",
       "      <td>0.000020</td>\n",
       "      <td>0.000017</td>\n",
       "      <td>0.000012</td>\n",
       "      <td>0.000016</td>\n",
       "      <td>0.000009</td>\n",
       "      <td>0.000007</td>\n",
       "      <td>0.000007</td>\n",
       "      <td>7.040194e-08</td>\n",
       "    </tr>\n",
       "    <tr>\n",
       "      <th>std</th>\n",
       "      <td>97.379514</td>\n",
       "      <td>98.208488</td>\n",
       "      <td>96.508367</td>\n",
       "      <td>1.000008</td>\n",
       "      <td>1.000001</td>\n",
       "      <td>96.379635</td>\n",
       "      <td>4.347456</td>\n",
       "      <td>49.189697</td>\n",
       "      <td>2.172654</td>\n",
       "      <td>5.083138e-01</td>\n",
       "      <td>...</td>\n",
       "      <td>0.997968</td>\n",
       "      <td>0.995823</td>\n",
       "      <td>0.998526</td>\n",
       "      <td>0.996917</td>\n",
       "      <td>0.993834</td>\n",
       "      <td>0.996286</td>\n",
       "      <td>0.992060</td>\n",
       "      <td>0.055660</td>\n",
       "      <td>0.053883</td>\n",
       "      <td>2.047857e-02</td>\n",
       "    </tr>\n",
       "    <tr>\n",
       "      <th>min</th>\n",
       "      <td>1.620000</td>\n",
       "      <td>1.690000</td>\n",
       "      <td>1.500000</td>\n",
       "      <td>-0.836371</td>\n",
       "      <td>-0.497119</td>\n",
       "      <td>-2023.813342</td>\n",
       "      <td>-605.147610</td>\n",
       "      <td>0.392738</td>\n",
       "      <td>-0.255000</td>\n",
       "      <td>-5.426162e+01</td>\n",
       "      <td>...</td>\n",
       "      <td>-0.834954</td>\n",
       "      <td>-0.834349</td>\n",
       "      <td>-0.835248</td>\n",
       "      <td>-0.834869</td>\n",
       "      <td>-0.834520</td>\n",
       "      <td>-0.834779</td>\n",
       "      <td>-0.834351</td>\n",
       "      <td>-5.228303</td>\n",
       "      <td>-5.011920</td>\n",
       "      <td>-2.964530e+00</td>\n",
       "    </tr>\n",
       "    <tr>\n",
       "      <th>25%</th>\n",
       "      <td>40.220000</td>\n",
       "      <td>40.620000</td>\n",
       "      <td>39.832400</td>\n",
       "      <td>-0.439406</td>\n",
       "      <td>-0.374015</td>\n",
       "      <td>-94.250902</td>\n",
       "      <td>-0.014250</td>\n",
       "      <td>19.891968</td>\n",
       "      <td>0.610000</td>\n",
       "      <td>-5.636025e-02</td>\n",
       "      <td>...</td>\n",
       "      <td>-0.438410</td>\n",
       "      <td>-0.437444</td>\n",
       "      <td>-0.438681</td>\n",
       "      <td>-0.437687</td>\n",
       "      <td>-0.435953</td>\n",
       "      <td>-0.437320</td>\n",
       "      <td>-0.434937</td>\n",
       "      <td>-0.004043</td>\n",
       "      <td>-0.003872</td>\n",
       "      <td>-2.062616e-03</td>\n",
       "    </tr>\n",
       "    <tr>\n",
       "      <th>50%</th>\n",
       "      <td>62.597500</td>\n",
       "      <td>63.157500</td>\n",
       "      <td>62.020000</td>\n",
       "      <td>-0.209709</td>\n",
       "      <td>-0.257639</td>\n",
       "      <td>-62.805068</td>\n",
       "      <td>-0.000317</td>\n",
       "      <td>31.192825</td>\n",
       "      <td>0.990000</td>\n",
       "      <td>-1.934798e-03</td>\n",
       "      <td>...</td>\n",
       "      <td>-0.208980</td>\n",
       "      <td>-0.208361</td>\n",
       "      <td>-0.209218</td>\n",
       "      <td>-0.208679</td>\n",
       "      <td>-0.208070</td>\n",
       "      <td>-0.208574</td>\n",
       "      <td>-0.207491</td>\n",
       "      <td>0.001853</td>\n",
       "      <td>0.001836</td>\n",
       "      <td>5.657910e-05</td>\n",
       "    </tr>\n",
       "    <tr>\n",
       "      <th>75%</th>\n",
       "      <td>94.370000</td>\n",
       "      <td>95.183750</td>\n",
       "      <td>93.540000</td>\n",
       "      <td>0.116714</td>\n",
       "      <td>-0.004333</td>\n",
       "      <td>-40.664037</td>\n",
       "      <td>0.013650</td>\n",
       "      <td>47.241548</td>\n",
       "      <td>1.669900</td>\n",
       "      <td>5.076756e-02</td>\n",
       "      <td>...</td>\n",
       "      <td>0.116106</td>\n",
       "      <td>0.115789</td>\n",
       "      <td>0.115897</td>\n",
       "      <td>0.115479</td>\n",
       "      <td>0.115354</td>\n",
       "      <td>0.115550</td>\n",
       "      <td>0.115050</td>\n",
       "      <td>0.008306</td>\n",
       "      <td>0.008104</td>\n",
       "      <td>2.289035e-03</td>\n",
       "    </tr>\n",
       "    <tr>\n",
       "      <th>max</th>\n",
       "      <td>2044.000000</td>\n",
       "      <td>2067.990000</td>\n",
       "      <td>2035.110000</td>\n",
       "      <td>20.186658</td>\n",
       "      <td>70.616398</td>\n",
       "      <td>-2.454523</td>\n",
       "      <td>1804.120932</td>\n",
       "      <td>1032.093329</td>\n",
       "      <td>138.260000</td>\n",
       "      <td>6.411544e+01</td>\n",
       "      <td>...</td>\n",
       "      <td>20.001021</td>\n",
       "      <td>19.721405</td>\n",
       "      <td>20.071672</td>\n",
       "      <td>19.959152</td>\n",
       "      <td>19.685934</td>\n",
       "      <td>19.906846</td>\n",
       "      <td>19.532225</td>\n",
       "      <td>1.862202</td>\n",
       "      <td>1.774762</td>\n",
       "      <td>1.035156e+00</td>\n",
       "    </tr>\n",
       "  </tbody>\n",
       "</table>\n",
       "<p>8 rows × 25 columns</p>\n",
       "</div>"
      ],
      "text/plain": [
       "                open           high            low          close  \\\n",
       "count  619010.000000  619010.000000  619010.000000  619010.000000   \n",
       "mean       83.025452      83.780551      82.258306       0.000022   \n",
       "std        97.379514      98.208488      96.508367       1.000008   \n",
       "min         1.620000       1.690000       1.500000      -0.836371   \n",
       "25%        40.220000      40.620000      39.832400      -0.439406   \n",
       "50%        62.597500      63.157500      62.020000      -0.209709   \n",
       "75%        94.370000      95.183750      93.540000       0.116714   \n",
       "max      2044.000000    2067.990000    2035.110000      20.186658   \n",
       "\n",
       "              volume   price_change        returns  average_price  \\\n",
       "count  619010.000000  619010.000000  619010.000000  619010.000000   \n",
       "mean       -0.000022     -83.025430       0.002371      41.512737   \n",
       "std         1.000001      96.379635       4.347456      49.189697   \n",
       "min        -0.497119   -2023.813342    -605.147610       0.392738   \n",
       "25%        -0.374015     -94.250902      -0.014250      19.891968   \n",
       "50%        -0.257639     -62.805068      -0.000317      31.192825   \n",
       "75%        -0.004333     -40.664037       0.013650      47.241548   \n",
       "max        70.616398      -2.454523    1804.120932    1032.093329   \n",
       "\n",
       "         price_range  volume_change  ...  moving_average_10  \\\n",
       "count  619010.000000   6.190100e+05  ...      619010.000000   \n",
       "mean        1.522246  -8.529990e-07  ...           0.000017   \n",
       "std         2.172654   5.083138e-01  ...           0.997968   \n",
       "min        -0.255000  -5.426162e+01  ...          -0.834954   \n",
       "25%         0.610000  -5.636025e-02  ...          -0.438410   \n",
       "50%         0.990000  -1.934798e-03  ...          -0.208980   \n",
       "75%         1.669900   5.076756e-02  ...           0.116106   \n",
       "max       138.260000   6.411544e+01  ...          20.001021   \n",
       "\n",
       "       moving_average_20  exponential_moving_average_5  \\\n",
       "count      619010.000000                 619010.000000   \n",
       "mean            0.000012                      0.000020   \n",
       "std             0.995823                      0.998526   \n",
       "min            -0.834349                     -0.835248   \n",
       "25%            -0.437444                     -0.438681   \n",
       "50%            -0.208361                     -0.209218   \n",
       "75%             0.115789                      0.115897   \n",
       "max            19.721405                     20.071672   \n",
       "\n",
       "       exponential_moving_average_10  exponential_moving_average_20  \\\n",
       "count                  619010.000000                  619010.000000   \n",
       "mean                        0.000017                       0.000012   \n",
       "std                         0.996917                       0.993834   \n",
       "min                        -0.834869                      -0.834520   \n",
       "25%                        -0.437687                      -0.435953   \n",
       "50%                        -0.208679                      -0.208070   \n",
       "75%                         0.115479                       0.115354   \n",
       "max                        19.959152                      19.685934   \n",
       "\n",
       "       exponential_moving_average_12  exponential_moving_average_26  \\\n",
       "count                  619010.000000                  619010.000000   \n",
       "mean                        0.000016                       0.000009   \n",
       "std                         0.996286                       0.992060   \n",
       "min                        -0.834779                      -0.834351   \n",
       "25%                        -0.437320                      -0.434937   \n",
       "50%                        -0.208574                      -0.207491   \n",
       "75%                         0.115550                       0.115050   \n",
       "max                        19.906846                      19.532225   \n",
       "\n",
       "                macd    macd_signal  macd_histogram  \n",
       "count  619010.000000  619010.000000    6.190100e+05  \n",
       "mean        0.000007       0.000007    7.040194e-08  \n",
       "std         0.055660       0.053883    2.047857e-02  \n",
       "min        -5.228303      -5.011920   -2.964530e+00  \n",
       "25%        -0.004043      -0.003872   -2.062616e-03  \n",
       "50%         0.001853       0.001836    5.657910e-05  \n",
       "75%         0.008306       0.008104    2.289035e-03  \n",
       "max         1.862202       1.774762    1.035156e+00  \n",
       "\n",
       "[8 rows x 25 columns]"
      ]
     },
     "metadata": {}
    }
   ]
  },
  {
   "cell_type": "code",
   "source": [
    "# Printing a summary of the columns and their data types in the cleaned dataset\n",
    "print(cleaned_data.info())\n"
   ],
   "metadata": {},
   "execution_count": 82,
   "outputs": [
    {
     "name": "stdout",
     "output_type": "stream",
     "text": "<class 'pandas.core.frame.DataFrame'>\n\nInt64Index: 619010 entries, 19 to 619039\n\nData columns (total 27 columns):\n\n #   Column                         Non-Null Count   Dtype  \n\n---  ------                         --------------   -----  \n\n 0   date                           619010 non-null  object \n\n 1   open                           619010 non-null  float64\n\n 2   high                           619010 non-null  float64\n\n 3   low                            619010 non-null  float64\n\n 4   close                          619010 non-null  float64\n\n 5   volume                         619010 non-null  float64\n\n 6   Name                           619010 non-null  object \n\n 7   price_change                   619010 non-null  float64\n\n 8   returns                        619010 non-null  float64\n\n 9   average_price                  619010 non-null  float64\n\n 10  price_range                    619010 non-null  float64\n\n 11  volume_change                  619010 non-null  float64\n\n 12  price_volume_correlation       619010 non-null  float64\n\n 13  returns_volume_correlation     619010 non-null  float64\n\n 14  price_volume_covariance        619010 non-null  float64\n\n 15  returns_volume_covariance      619010 non-null  float64\n\n 16  moving_average_5               619010 non-null  float64\n\n 17  moving_average_10              619010 non-null  float64\n\n 18  moving_average_20              619010 non-null  float64\n\n 19  exponential_moving_average_5   619010 non-null  float64\n\n 20  exponential_moving_average_10  619010 non-null  float64\n\n 21  exponential_moving_average_20  619010 non-null  float64\n\n 22  exponential_moving_average_12  619010 non-null  float64\n\n 23  exponential_moving_average_26  619010 non-null  float64\n\n 24  macd                           619010 non-null  float64\n\n 25  macd_signal                    619010 non-null  float64\n\n 26  macd_histogram                 619010 non-null  float64\n\ndtypes: float64(25), object(2)\n\nmemory usage: 132.2+ MB\n\nNone\n"
    }
   ]
  },
  {
   "cell_type": "code",
   "source": [
    "print(cleaned_data.isnull().sum())"
   ],
   "metadata": {},
   "execution_count": 83,
   "outputs": [
    {
     "name": "stdout",
     "output_type": "stream",
     "text": "date                             0\n\nopen                             0\n\nhigh                             0\n\nlow                              0\n\nclose                            0\n\nvolume                           0\n\nName                             0\n\nprice_change                     0\n\nreturns                          0\n\naverage_price                    0\n\nprice_range                      0\n\nvolume_change                    0\n\nprice_volume_correlation         0\n\nreturns_volume_correlation       0\n\nprice_volume_covariance          0\n\nreturns_volume_covariance        0\n\nmoving_average_5                 0\n\nmoving_average_10                0\n\nmoving_average_20                0\n\nexponential_moving_average_5     0\n\nexponential_moving_average_10    0\n\nexponential_moving_average_20    0\n\nexponential_moving_average_12    0\n\nexponential_moving_average_26    0\n\nmacd                             0\n\nmacd_signal                      0\n\nmacd_histogram                   0\n\ndtype: int64\n"
    }
   ]
  },
  {
   "cell_type": "code",
   "source": [
    "#saving the clean data\n",
    "cleaned_data.to_csv(\"all_stocks_5yr_cleaned_data.csv\", index=False)\n"
   ],
   "metadata": {},
   "execution_count": 85,
   "outputs": []
  },
  {
   "cell_type": "markdown",
   "source": [
    "#  Consultation for next step:\n"
   ],
   "metadata": {}
  },
  {
   "cell_type": "markdown",
   "source": [
    "In the next notebook, I will be performing exploratory data analysis (EDA) on the cleaned dataset. I will be visualizing the data to gain insights and identify patterns in the stock market. This will include creating various plots such as line charts, histograms, and heatmaps, as well as calculating summary statistics. The EDA will give me a better understanding of the stock market and help inform my modeling decisions."
   ],
   "metadata": {}
  }
 ]
}
